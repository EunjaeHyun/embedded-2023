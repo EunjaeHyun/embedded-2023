{
  "cells": [
    {
      "cell_type": "code",
      "execution_count": 1,
      "metadata": {
        "colab": {
          "base_uri": "https://localhost:8080/"
        },
        "id": "Fy3NP4fsmgev",
        "outputId": "d0d35924-fd9b-4b0a-d642-fc41dab121b1"
      },
      "outputs": [
        {
          "name": "stderr",
          "output_type": "stream",
          "text": [
            "2023-11-07 22:11:30.991752: I tensorflow/core/platform/cpu_feature_guard.cc:193] This TensorFlow binary is optimized with oneAPI Deep Neural Network Library (oneDNN) to use the following CPU instructions in performance-critical operations:  AVX2 FMA\n",
            "To enable them in other operations, rebuild TensorFlow with the appropriate compiler flags.\n",
            "2023-11-07 22:11:31.704413: W tensorflow/compiler/xla/stream_executor/platform/default/dso_loader.cc:64] Could not load dynamic library 'libnvinfer.so.7'; dlerror: libnvinfer.so.7: cannot open shared object file: No such file or directory; LD_LIBRARY_PATH: /usr/local/cuda/lib64:\n",
            "2023-11-07 22:11:31.704484: W tensorflow/compiler/xla/stream_executor/platform/default/dso_loader.cc:64] Could not load dynamic library 'libnvinfer_plugin.so.7'; dlerror: libnvinfer_plugin.so.7: cannot open shared object file: No such file or directory; LD_LIBRARY_PATH: /usr/local/cuda/lib64:\n",
            "2023-11-07 22:11:31.704493: W tensorflow/compiler/tf2tensorrt/utils/py_utils.cc:38] TF-TRT Warning: Cannot dlopen some TensorRT libraries. If you would like to use Nvidia GPU with TensorRT, please make sure the missing libraries mentioned above are installed properly.\n"
          ]
        }
      ],
      "source": [
        "#!pip install tensorflow_model_optimization\n",
        "\n",
        "import numpy as np\n",
        "from tensorflow import keras\n",
        "import tensorflow as tf\n",
        "from tensorflow.keras import layers, models, regularizers, datasets, utils, callbacks, optimizers, losses\n",
        "from keras.datasets import cifar10\n",
        "import tensorflow_model_optimization as tfmot"
      ]
    },
    {
      "cell_type": "code",
      "execution_count": 2,
      "metadata": {
        "colab": {
          "base_uri": "https://localhost:8080/"
        },
        "id": "GXOtrXiImuXd",
        "outputId": "0c289dd8-04cc-4ef2-c0cb-946077c705de"
      },
      "outputs": [],
      "source": [
        "# Loading data\n",
        "(x_train, y_train), (x_test, y_test) = cifar10.load_data()\n",
        "\n",
        "# Data Transform\n",
        "x_train = x_train.astype(np.float32) / 255.0\n",
        "y_train = utils.to_categorical(y_train)\n",
        "x_train_mean = np.mean(x_train, axis=0)\n",
        "x_train -= x_train_mean\n",
        "\n",
        "x_test = x_test.astype(np.float32) / 255.0\n",
        "y_test = utils.to_categorical(y_test)\n",
        "x_test -= x_train_mean"
      ]
    },
    {
      "cell_type": "code",
      "execution_count": 3,
      "metadata": {
        "colab": {
          "base_uri": "https://localhost:8080/"
        },
        "id": "CZmQDOxbmhGU",
        "outputId": "62bb11a2-bf4a-46cb-b424-fdc22799ce06"
      },
      "outputs": [],
      "source": [
        "# Connect to google drive to save/load model\n",
        "# from google.colab import drive\n",
        "# drive.mount('/content/drive')"
      ]
    },
    {
      "cell_type": "markdown",
      "metadata": {
        "id": "qdAgZtly1_XW"
      },
      "source": [
        "### ResNet18"
      ]
    },
    {
      "cell_type": "code",
      "execution_count": 4,
      "metadata": {
        "id": "MyQ5WtkTnGmO"
      },
      "outputs": [],
      "source": [
        "# # @title 기본 제목 텍스트\n",
        "# kernel_initializer = 'he_normal'\n",
        "# input_shape = (32,32,3)\n",
        "\n",
        "# image_input = layers.Input(shape=input_shape)\n",
        "# # first layer\n",
        "\n",
        "# block1 = keras.Sequential([\n",
        "#     layers.Conv2D(kernel_size=3, filters=64, strides=1, padding='same', kernel_initializer=kernel_initializer),\n",
        "#     layers.BatchNormalization(),\n",
        "#     layers.ReLU()\n",
        "# ])(image_input)\n",
        "\n",
        "# # first stage\n",
        "# shortcut = block1\n",
        "# block2 = keras.Sequential([\n",
        "#     layers.Conv2D(filters=64, kernel_size=3, strides=1, padding='same', kernel_initializer=kernel_initializer),\n",
        "#     layers.BatchNormalization(),\n",
        "#     layers.ReLU(),\n",
        "#     layers.Conv2D(filters=64, kernel_size=3, strides=1, padding='same', kernel_initializer=kernel_initializer),\n",
        "#     layers.BatchNormalization()\n",
        "# ])(block1)\n",
        "\n",
        "# block2 = layers.add([block2, shortcut])\n",
        "# block2 = layers.ReLU()(block2)\n",
        "\n",
        "# shortcut = block2\n",
        "# block3 = keras.Sequential([\n",
        "#     layers.Conv2D(filters=64, kernel_size=3, strides=1, padding='same', kernel_initializer=kernel_initializer),\n",
        "#     layers.BatchNormalization(),\n",
        "#     layers.ReLU(),\n",
        "#     layers.Conv2D(filters=64, kernel_size=3, strides=1, padding='same', kernel_initializer=kernel_initializer),\n",
        "#     layers.BatchNormalization()\n",
        "# ])(block2)\n",
        "\n",
        "# block3 = layers.add([block3, shortcut])\n",
        "# block3 = layers.ReLU()(block3)\n",
        "\n",
        "# # second stage\n",
        "# shortcut = keras.Sequential([layers.Conv2D(filters=128, kernel_size=1, strides=2),\n",
        "#                              layers.BatchNormalization()])(block3)\n",
        "# block4 = keras.Sequential([\n",
        "#     layers.Conv2D(filters=128, kernel_size=3, strides=2, padding='same', kernel_initializer=kernel_initializer),\n",
        "#     layers.BatchNormalization(),\n",
        "#     layers.ReLU(),\n",
        "#     layers.Conv2D(filters=128, kernel_size=3, strides=1, padding='same', kernel_initializer=kernel_initializer),\n",
        "#     layers.BatchNormalization()\n",
        "# ])(block3)\n",
        "\n",
        "# block4 = layers.add([block4, shortcut])\n",
        "# block4 = layers.ReLU()(block4)\n",
        "\n",
        "# shortcut = block4\n",
        "# block5 = keras.Sequential([\n",
        "#     layers.Conv2D(filters=128, kernel_size=3, strides=1, padding='same', kernel_initializer=kernel_initializer),\n",
        "#     layers.BatchNormalization(),\n",
        "#     layers.ReLU(),\n",
        "#     layers.Conv2D(filters=128, kernel_size=3, strides=1, padding='same', kernel_initializer=kernel_initializer),\n",
        "#     layers.BatchNormalization()\n",
        "# ])(block4)\n",
        "\n",
        "# block5 = layers.add([block5, shortcut])\n",
        "# block5 = layers.ReLU()(block5)\n",
        "\n",
        "# # third stage\n",
        "# shortcut = keras.Sequential([layers.Conv2D(filters=256, kernel_size=1, strides=2),\n",
        "#                              layers.BatchNormalization()])(block5)\n",
        "# block6 = keras.Sequential([\n",
        "#     layers.Conv2D(filters=256, kernel_size=3, strides=2, padding='same', kernel_initializer=kernel_initializer),\n",
        "#     layers.BatchNormalization(),\n",
        "#     layers.ReLU(),\n",
        "#     layers.Conv2D(filters=256, kernel_size=3, strides=1, padding='same', kernel_initializer=kernel_initializer),\n",
        "#     layers.BatchNormalization()\n",
        "# ])(block5)\n",
        "\n",
        "# block6 = layers.add([block6, shortcut])\n",
        "# block6 = layers.ReLU()(block6)\n",
        "\n",
        "# shortcut = block6\n",
        "# block7 = keras.Sequential([\n",
        "#     layers.Conv2D(filters=256, kernel_size=3, strides=1, padding='same', kernel_initializer=kernel_initializer),\n",
        "#     layers.BatchNormalization(),\n",
        "#     layers.ReLU(),\n",
        "#     layers.Conv2D(filters=256, kernel_size=3, strides=1, padding='same', kernel_initializer=kernel_initializer),\n",
        "#     layers.BatchNormalization()\n",
        "# ])(block6)\n",
        "\n",
        "# block7 = layers.add([block7, shortcut])\n",
        "# block7 = layers.ReLU()(block7)\n",
        "\n",
        "# #fourth stage\n",
        "# shortcut = keras.Sequential([layers.Conv2D(filters=512, kernel_size=1, strides=2),\n",
        "#                              layers.BatchNormalization()])(block7)\n",
        "# block8 = keras.Sequential([\n",
        "#     layers.Conv2D(filters=512, kernel_size=3, strides=2, padding='same', kernel_initializer=kernel_initializer),\n",
        "#     layers.BatchNormalization(),\n",
        "#     layers.ReLU(),\n",
        "#     layers.Conv2D(filters=512, kernel_size=3, strides=1, padding='same', kernel_initializer=kernel_initializer),\n",
        "#     layers.BatchNormalization()\n",
        "# ])(block7)\n",
        "\n",
        "# block8 = layers.add([block8, shortcut])\n",
        "# block8 = layers.ReLU()(block8)\n",
        "\n",
        "# shortcut = block8\n",
        "# block9 = keras.Sequential([\n",
        "#     layers.Conv2D(filters=512, kernel_size=3, strides=1, padding='same', kernel_initializer=kernel_initializer),\n",
        "#     layers.BatchNormalization(),\n",
        "#     layers.ReLU(),\n",
        "#     layers.Conv2D(filters=512, kernel_size=3, strides=1, padding='same', kernel_initializer=kernel_initializer),\n",
        "#     layers.BatchNormalization()\n",
        "# ])(block8)\n",
        "\n",
        "# block9 = layers.add([block9, shortcut])\n",
        "# block9 = layers.ReLU()(block9)\n",
        "\n",
        "# predictions = keras.Sequential([\n",
        "#     layers.GlobalAveragePooling2D(),\n",
        "#     layers.Flatten(),\n",
        "#     layers.Dense(10)\n",
        "# ])(block9)\n",
        "\n",
        "# model = keras.Model(inputs=image_input, outputs=predictions)"
      ]
    },
    {
      "cell_type": "code",
      "execution_count": 5,
      "metadata": {
        "colab": {
          "base_uri": "https://localhost:8080/"
        },
        "id": "q0TR4MI3A7oc",
        "outputId": "9fe452f8-fba2-41df-ec1f-d1e3db7aa90b"
      },
      "outputs": [
        {
          "name": "stderr",
          "output_type": "stream",
          "text": [
            "2023-11-07 22:11:33.328151: I tensorflow/compiler/xla/stream_executor/cuda/cuda_gpu_executor.cc:981] successful NUMA node read from SysFS had negative value (-1), but there must be at least one NUMA node, so returning NUMA node zero\n",
            "2023-11-07 22:11:33.333280: I tensorflow/compiler/xla/stream_executor/cuda/cuda_gpu_executor.cc:981] successful NUMA node read from SysFS had negative value (-1), but there must be at least one NUMA node, so returning NUMA node zero\n",
            "2023-11-07 22:11:33.333746: I tensorflow/compiler/xla/stream_executor/cuda/cuda_gpu_executor.cc:981] successful NUMA node read from SysFS had negative value (-1), but there must be at least one NUMA node, so returning NUMA node zero\n",
            "2023-11-07 22:11:33.334394: I tensorflow/core/platform/cpu_feature_guard.cc:193] This TensorFlow binary is optimized with oneAPI Deep Neural Network Library (oneDNN) to use the following CPU instructions in performance-critical operations:  AVX2 FMA\n",
            "To enable them in other operations, rebuild TensorFlow with the appropriate compiler flags.\n",
            "2023-11-07 22:11:33.335110: I tensorflow/compiler/xla/stream_executor/cuda/cuda_gpu_executor.cc:981] successful NUMA node read from SysFS had negative value (-1), but there must be at least one NUMA node, so returning NUMA node zero\n",
            "2023-11-07 22:11:33.335560: I tensorflow/compiler/xla/stream_executor/cuda/cuda_gpu_executor.cc:981] successful NUMA node read from SysFS had negative value (-1), but there must be at least one NUMA node, so returning NUMA node zero\n",
            "2023-11-07 22:11:33.335996: I tensorflow/compiler/xla/stream_executor/cuda/cuda_gpu_executor.cc:981] successful NUMA node read from SysFS had negative value (-1), but there must be at least one NUMA node, so returning NUMA node zero\n",
            "2023-11-07 22:11:33.855960: I tensorflow/compiler/xla/stream_executor/cuda/cuda_gpu_executor.cc:981] successful NUMA node read from SysFS had negative value (-1), but there must be at least one NUMA node, so returning NUMA node zero\n",
            "2023-11-07 22:11:33.856427: I tensorflow/compiler/xla/stream_executor/cuda/cuda_gpu_executor.cc:981] successful NUMA node read from SysFS had negative value (-1), but there must be at least one NUMA node, so returning NUMA node zero\n",
            "2023-11-07 22:11:33.856839: I tensorflow/compiler/xla/stream_executor/cuda/cuda_gpu_executor.cc:981] successful NUMA node read from SysFS had negative value (-1), but there must be at least one NUMA node, so returning NUMA node zero\n",
            "2023-11-07 22:11:33.857233: I tensorflow/core/common_runtime/gpu/gpu_device.cc:1613] Created device /job:localhost/replica:0/task:0/device:GPU:0 with 9607 MB memory:  -> device: 0, name: NVIDIA GeForce RTX 2080 Ti, pci bus id: 0000:01:00.0, compute capability: 7.5\n"
          ]
        },
        {
          "name": "stdout",
          "output_type": "stream",
          "text": [
            "Model: \"model\"\n",
            "__________________________________________________________________________________________________\n",
            " Layer (type)                   Output Shape         Param #     Connected to                     \n",
            "==================================================================================================\n",
            " input_1 (InputLayer)           [(None, 32, 32, 3)]  0           []                               \n",
            "                                                                                                  \n",
            " sequential (Sequential)        (None, 32, 32, 64)   2048        ['input_1[0][0]']                \n",
            "                                                                                                  \n",
            " conv2d_1 (Conv2D)              (None, 32, 32, 64)   4160        ['sequential[0][0]']             \n",
            "                                                                                                  \n",
            " batch_normalization_1 (BatchNo  (None, 32, 32, 64)  256         ['conv2d_1[0][0]']               \n",
            " rmalization)                                                                                     \n",
            "                                                                                                  \n",
            " re_lu_1 (ReLU)                 (None, 32, 32, 64)   0           ['batch_normalization_1[0][0]']  \n",
            "                                                                                                  \n",
            " depthwise_conv2d (DepthwiseCon  (None, 32, 32, 64)  640         ['re_lu_1[0][0]']                \n",
            " v2D)                                                                                             \n",
            "                                                                                                  \n",
            " batch_normalization_2 (BatchNo  (None, 32, 32, 64)  256         ['depthwise_conv2d[0][0]']       \n",
            " rmalization)                                                                                     \n",
            "                                                                                                  \n",
            " re_lu_2 (ReLU)                 (None, 32, 32, 64)   0           ['batch_normalization_2[0][0]']  \n",
            "                                                                                                  \n",
            " conv2d_2 (Conv2D)              (None, 32, 32, 64)   4160        ['re_lu_2[0][0]']                \n",
            "                                                                                                  \n",
            " batch_normalization_3 (BatchNo  (None, 32, 32, 64)  256         ['conv2d_2[0][0]']               \n",
            " rmalization)                                                                                     \n",
            "                                                                                                  \n",
            " add (Add)                      (None, 32, 32, 64)   0           ['batch_normalization_3[0][0]',  \n",
            "                                                                  'sequential[0][0]']             \n",
            "                                                                                                  \n",
            " re_lu_3 (ReLU)                 (None, 32, 32, 64)   0           ['add[0][0]']                    \n",
            "                                                                                                  \n",
            " conv2d_3 (Conv2D)              (None, 32, 32, 64)   4160        ['re_lu_3[0][0]']                \n",
            "                                                                                                  \n",
            " batch_normalization_4 (BatchNo  (None, 32, 32, 64)  256         ['conv2d_3[0][0]']               \n",
            " rmalization)                                                                                     \n",
            "                                                                                                  \n",
            " re_lu_4 (ReLU)                 (None, 32, 32, 64)   0           ['batch_normalization_4[0][0]']  \n",
            "                                                                                                  \n",
            " depthwise_conv2d_1 (DepthwiseC  (None, 32, 32, 64)  640         ['re_lu_4[0][0]']                \n",
            " onv2D)                                                                                           \n",
            "                                                                                                  \n",
            " batch_normalization_5 (BatchNo  (None, 32, 32, 64)  256         ['depthwise_conv2d_1[0][0]']     \n",
            " rmalization)                                                                                     \n",
            "                                                                                                  \n",
            " re_lu_5 (ReLU)                 (None, 32, 32, 64)   0           ['batch_normalization_5[0][0]']  \n",
            "                                                                                                  \n",
            " conv2d_4 (Conv2D)              (None, 32, 32, 64)   4160        ['re_lu_5[0][0]']                \n",
            "                                                                                                  \n",
            " batch_normalization_6 (BatchNo  (None, 32, 32, 64)  256         ['conv2d_4[0][0]']               \n",
            " rmalization)                                                                                     \n",
            "                                                                                                  \n",
            " add_1 (Add)                    (None, 32, 32, 64)   0           ['batch_normalization_6[0][0]',  \n",
            "                                                                  're_lu_3[0][0]']                \n",
            "                                                                                                  \n",
            " re_lu_6 (ReLU)                 (None, 32, 32, 64)   0           ['add_1[0][0]']                  \n",
            "                                                                                                  \n",
            " conv2d_5 (Conv2D)              (None, 32, 32, 128)  8320        ['re_lu_6[0][0]']                \n",
            "                                                                                                  \n",
            " batch_normalization_7 (BatchNo  (None, 32, 32, 128)  512        ['conv2d_5[0][0]']               \n",
            " rmalization)                                                                                     \n",
            "                                                                                                  \n",
            " re_lu_7 (ReLU)                 (None, 32, 32, 128)  0           ['batch_normalization_7[0][0]']  \n",
            "                                                                                                  \n",
            " depthwise_conv2d_2 (DepthwiseC  (None, 16, 16, 128)  1280       ['re_lu_7[0][0]']                \n",
            " onv2D)                                                                                           \n",
            "                                                                                                  \n",
            " batch_normalization_8 (BatchNo  (None, 16, 16, 128)  512        ['depthwise_conv2d_2[0][0]']     \n",
            " rmalization)                                                                                     \n",
            "                                                                                                  \n",
            " re_lu_8 (ReLU)                 (None, 16, 16, 128)  0           ['batch_normalization_8[0][0]']  \n",
            "                                                                                                  \n",
            " conv2d_6 (Conv2D)              (None, 16, 16, 128)  16512       ['re_lu_8[0][0]']                \n",
            "                                                                                                  \n",
            " conv2d_7 (Conv2D)              (None, 16, 16, 128)  8320        ['re_lu_6[0][0]']                \n",
            "                                                                                                  \n",
            " batch_normalization_9 (BatchNo  (None, 16, 16, 128)  512        ['conv2d_6[0][0]']               \n",
            " rmalization)                                                                                     \n",
            "                                                                                                  \n",
            " batch_normalization_10 (BatchN  (None, 16, 16, 128)  512        ['conv2d_7[0][0]']               \n",
            " ormalization)                                                                                    \n",
            "                                                                                                  \n",
            " add_2 (Add)                    (None, 16, 16, 128)  0           ['batch_normalization_9[0][0]',  \n",
            "                                                                  'batch_normalization_10[0][0]'] \n",
            "                                                                                                  \n",
            " re_lu_9 (ReLU)                 (None, 16, 16, 128)  0           ['add_2[0][0]']                  \n",
            "                                                                                                  \n",
            " conv2d_8 (Conv2D)              (None, 16, 16, 128)  16512       ['re_lu_9[0][0]']                \n",
            "                                                                                                  \n",
            " batch_normalization_11 (BatchN  (None, 16, 16, 128)  512        ['conv2d_8[0][0]']               \n",
            " ormalization)                                                                                    \n",
            "                                                                                                  \n",
            " re_lu_10 (ReLU)                (None, 16, 16, 128)  0           ['batch_normalization_11[0][0]'] \n",
            "                                                                                                  \n",
            " depthwise_conv2d_3 (DepthwiseC  (None, 16, 16, 128)  1280       ['re_lu_10[0][0]']               \n",
            " onv2D)                                                                                           \n",
            "                                                                                                  \n",
            " batch_normalization_12 (BatchN  (None, 16, 16, 128)  512        ['depthwise_conv2d_3[0][0]']     \n",
            " ormalization)                                                                                    \n",
            "                                                                                                  \n",
            " re_lu_11 (ReLU)                (None, 16, 16, 128)  0           ['batch_normalization_12[0][0]'] \n",
            "                                                                                                  \n",
            " conv2d_9 (Conv2D)              (None, 16, 16, 128)  16512       ['re_lu_11[0][0]']               \n",
            "                                                                                                  \n",
            " batch_normalization_13 (BatchN  (None, 16, 16, 128)  512        ['conv2d_9[0][0]']               \n",
            " ormalization)                                                                                    \n",
            "                                                                                                  \n",
            " add_3 (Add)                    (None, 16, 16, 128)  0           ['batch_normalization_13[0][0]', \n",
            "                                                                  're_lu_9[0][0]']                \n",
            "                                                                                                  \n",
            " re_lu_12 (ReLU)                (None, 16, 16, 128)  0           ['add_3[0][0]']                  \n",
            "                                                                                                  \n",
            " conv2d_10 (Conv2D)             (None, 16, 16, 256)  33024       ['re_lu_12[0][0]']               \n",
            "                                                                                                  \n",
            " batch_normalization_14 (BatchN  (None, 16, 16, 256)  1024       ['conv2d_10[0][0]']              \n",
            " ormalization)                                                                                    \n",
            "                                                                                                  \n",
            " re_lu_13 (ReLU)                (None, 16, 16, 256)  0           ['batch_normalization_14[0][0]'] \n",
            "                                                                                                  \n",
            " depthwise_conv2d_4 (DepthwiseC  (None, 8, 8, 256)   2560        ['re_lu_13[0][0]']               \n",
            " onv2D)                                                                                           \n",
            "                                                                                                  \n",
            " batch_normalization_15 (BatchN  (None, 8, 8, 256)   1024        ['depthwise_conv2d_4[0][0]']     \n",
            " ormalization)                                                                                    \n",
            "                                                                                                  \n",
            " re_lu_14 (ReLU)                (None, 8, 8, 256)    0           ['batch_normalization_15[0][0]'] \n",
            "                                                                                                  \n",
            " conv2d_11 (Conv2D)             (None, 8, 8, 256)    65792       ['re_lu_14[0][0]']               \n",
            "                                                                                                  \n",
            " conv2d_12 (Conv2D)             (None, 8, 8, 256)    33024       ['re_lu_12[0][0]']               \n",
            "                                                                                                  \n",
            " batch_normalization_16 (BatchN  (None, 8, 8, 256)   1024        ['conv2d_11[0][0]']              \n",
            " ormalization)                                                                                    \n",
            "                                                                                                  \n",
            " batch_normalization_17 (BatchN  (None, 8, 8, 256)   1024        ['conv2d_12[0][0]']              \n",
            " ormalization)                                                                                    \n",
            "                                                                                                  \n",
            " add_4 (Add)                    (None, 8, 8, 256)    0           ['batch_normalization_16[0][0]', \n",
            "                                                                  'batch_normalization_17[0][0]'] \n",
            "                                                                                                  \n",
            " re_lu_15 (ReLU)                (None, 8, 8, 256)    0           ['add_4[0][0]']                  \n",
            "                                                                                                  \n",
            " conv2d_13 (Conv2D)             (None, 8, 8, 256)    65792       ['re_lu_15[0][0]']               \n",
            "                                                                                                  \n",
            " batch_normalization_18 (BatchN  (None, 8, 8, 256)   1024        ['conv2d_13[0][0]']              \n",
            " ormalization)                                                                                    \n",
            "                                                                                                  \n",
            " re_lu_16 (ReLU)                (None, 8, 8, 256)    0           ['batch_normalization_18[0][0]'] \n",
            "                                                                                                  \n",
            " depthwise_conv2d_5 (DepthwiseC  (None, 8, 8, 256)   2560        ['re_lu_16[0][0]']               \n",
            " onv2D)                                                                                           \n",
            "                                                                                                  \n",
            " batch_normalization_19 (BatchN  (None, 8, 8, 256)   1024        ['depthwise_conv2d_5[0][0]']     \n",
            " ormalization)                                                                                    \n",
            "                                                                                                  \n",
            " re_lu_17 (ReLU)                (None, 8, 8, 256)    0           ['batch_normalization_19[0][0]'] \n",
            "                                                                                                  \n",
            " conv2d_14 (Conv2D)             (None, 8, 8, 256)    65792       ['re_lu_17[0][0]']               \n",
            "                                                                                                  \n",
            " batch_normalization_20 (BatchN  (None, 8, 8, 256)   1024        ['conv2d_14[0][0]']              \n",
            " ormalization)                                                                                    \n",
            "                                                                                                  \n",
            " add_5 (Add)                    (None, 8, 8, 256)    0           ['batch_normalization_20[0][0]', \n",
            "                                                                  're_lu_15[0][0]']               \n",
            "                                                                                                  \n",
            " re_lu_18 (ReLU)                (None, 8, 8, 256)    0           ['add_5[0][0]']                  \n",
            "                                                                                                  \n",
            " conv2d_15 (Conv2D)             (None, 8, 8, 512)    131584      ['re_lu_18[0][0]']               \n",
            "                                                                                                  \n",
            " batch_normalization_21 (BatchN  (None, 8, 8, 512)   2048        ['conv2d_15[0][0]']              \n",
            " ormalization)                                                                                    \n",
            "                                                                                                  \n",
            " re_lu_19 (ReLU)                (None, 8, 8, 512)    0           ['batch_normalization_21[0][0]'] \n",
            "                                                                                                  \n",
            " depthwise_conv2d_6 (DepthwiseC  (None, 4, 4, 512)   5120        ['re_lu_19[0][0]']               \n",
            " onv2D)                                                                                           \n",
            "                                                                                                  \n",
            " batch_normalization_22 (BatchN  (None, 4, 4, 512)   2048        ['depthwise_conv2d_6[0][0]']     \n",
            " ormalization)                                                                                    \n",
            "                                                                                                  \n",
            " re_lu_20 (ReLU)                (None, 4, 4, 512)    0           ['batch_normalization_22[0][0]'] \n",
            "                                                                                                  \n",
            " conv2d_16 (Conv2D)             (None, 4, 4, 512)    262656      ['re_lu_20[0][0]']               \n",
            "                                                                                                  \n",
            " conv2d_17 (Conv2D)             (None, 4, 4, 512)    131584      ['re_lu_18[0][0]']               \n",
            "                                                                                                  \n",
            " batch_normalization_23 (BatchN  (None, 4, 4, 512)   2048        ['conv2d_16[0][0]']              \n",
            " ormalization)                                                                                    \n",
            "                                                                                                  \n",
            " batch_normalization_24 (BatchN  (None, 4, 4, 512)   2048        ['conv2d_17[0][0]']              \n",
            " ormalization)                                                                                    \n",
            "                                                                                                  \n",
            " add_6 (Add)                    (None, 4, 4, 512)    0           ['batch_normalization_23[0][0]', \n",
            "                                                                  'batch_normalization_24[0][0]'] \n",
            "                                                                                                  \n",
            " re_lu_21 (ReLU)                (None, 4, 4, 512)    0           ['add_6[0][0]']                  \n",
            "                                                                                                  \n",
            " conv2d_18 (Conv2D)             (None, 4, 4, 512)    262656      ['re_lu_21[0][0]']               \n",
            "                                                                                                  \n",
            " batch_normalization_25 (BatchN  (None, 4, 4, 512)   2048        ['conv2d_18[0][0]']              \n",
            " ormalization)                                                                                    \n",
            "                                                                                                  \n",
            " re_lu_22 (ReLU)                (None, 4, 4, 512)    0           ['batch_normalization_25[0][0]'] \n",
            "                                                                                                  \n",
            " depthwise_conv2d_7 (DepthwiseC  (None, 4, 4, 512)   5120        ['re_lu_22[0][0]']               \n",
            " onv2D)                                                                                           \n",
            "                                                                                                  \n",
            " batch_normalization_26 (BatchN  (None, 4, 4, 512)   2048        ['depthwise_conv2d_7[0][0]']     \n",
            " ormalization)                                                                                    \n",
            "                                                                                                  \n",
            " re_lu_23 (ReLU)                (None, 4, 4, 512)    0           ['batch_normalization_26[0][0]'] \n",
            "                                                                                                  \n",
            " conv2d_19 (Conv2D)             (None, 4, 4, 512)    262656      ['re_lu_23[0][0]']               \n",
            "                                                                                                  \n",
            " batch_normalization_27 (BatchN  (None, 4, 4, 512)   2048        ['conv2d_19[0][0]']              \n",
            " ormalization)                                                                                    \n",
            "                                                                                                  \n",
            " add_7 (Add)                    (None, 4, 4, 512)    0           ['batch_normalization_27[0][0]', \n",
            "                                                                  're_lu_21[0][0]']               \n",
            "                                                                                                  \n",
            " re_lu_24 (ReLU)                (None, 4, 4, 512)    0           ['add_7[0][0]']                  \n",
            "                                                                                                  \n",
            " sequential_1 (Sequential)      (None, 10)           267786      ['re_lu_24[0][0]']               \n",
            "                                                                                                  \n",
            "==================================================================================================\n",
            "Total params: 1,713,034\n",
            "Trainable params: 1,699,594\n",
            "Non-trainable params: 13,440\n",
            "__________________________________________________________________________________________________\n"
          ]
        }
      ],
      "source": [
        "## Applying bottleneck\n",
        "def bottleneck_block(input, filters=64, expansion=1, stride=1):\n",
        "    x = layers.Conv2D(filters, (1, 1), padding='same')(input)\n",
        "    x = layers.BatchNormalization()(x)\n",
        "    x = layers.ReLU()(x)\n",
        "\n",
        "    # x = layers.Conv2D(filters, (3, 3), padding='same', strides=stride)(x)\n",
        "    x = layers.DepthwiseConv2D(3, padding='same', strides=stride)(x)\n",
        "    x = layers.BatchNormalization()(x)\n",
        "    x = layers.ReLU()(x)\n",
        "\n",
        "    x = layers.Conv2D(filters*expansion, (1, 1), padding='same')(x)\n",
        "    x = layers.BatchNormalization()(x)\n",
        "\n",
        "    if (stride == 2 or expansion==4):\n",
        "        input = layers.Conv2D(filters*expansion, (1, 1), padding='same', strides=stride)(input)\n",
        "        input = layers.BatchNormalization()(input)\n",
        "\n",
        "    x = layers.Add()([x, input])\n",
        "    x = layers.ReLU()(x)\n",
        "    return x\n",
        "\n",
        "kernel_initializer = 'he_normal'\n",
        "input_shape = (32,32,3)\n",
        "\n",
        "image_input = layers.Input(shape=input_shape)\n",
        "# first layer\n",
        "x = keras.Sequential([\n",
        "    layers.Conv2D(kernel_size=3, filters=64, strides=1, padding='same', kernel_initializer=kernel_initializer),\n",
        "    layers.BatchNormalization(),\n",
        "    layers.ReLU()\n",
        "])(image_input)\n",
        "\n",
        "# first stage\n",
        "x = bottleneck_block(x, filters=64, expansion=1, stride=1)\n",
        "x = bottleneck_block(x, filters=64, expansion=1, stride=1)\n",
        "# second stage\n",
        "x = bottleneck_block(x, filters=128, expansion=1, stride=2)\n",
        "x = bottleneck_block(x, filters=128, expansion=1, stride=1)\n",
        "# Third stage\n",
        "x = bottleneck_block(x, filters=256, expansion=1, stride=2)\n",
        "x = bottleneck_block(x, filters=256, expansion=1, stride=1)\n",
        "# Fourth stage\n",
        "x = bottleneck_block(x, filters=512, expansion=1, stride=2)\n",
        "x = bottleneck_block(x, filters=512, expansion=1, stride=1)\n",
        "\n",
        "predictions = keras.Sequential([\n",
        "    layers.GlobalAveragePooling2D(),\n",
        "    layers.Flatten(),\n",
        "    layers.Dense(512),\n",
        "    layers.Dense(10)\n",
        "])(x)\n",
        "\n",
        "model = keras.Model(inputs=image_input, outputs=predictions)\n",
        "\n",
        "# Total parameters\n",
        "model.summary()"
      ]
    },
    {
      "cell_type": "code",
      "execution_count": 6,
      "metadata": {
        "colab": {
          "base_uri": "https://localhost:8080/"
        },
        "id": "Kxph0-gRtlDr",
        "outputId": "e004c10a-8dea-487d-8601-2c85a6017416"
      },
      "outputs": [
        {
          "name": "stdout",
          "output_type": "stream",
          "text": [
            "Epoch 1/200\n"
          ]
        },
        {
          "name": "stderr",
          "output_type": "stream",
          "text": [
            "2023-11-07 22:11:42.348291: I tensorflow/compiler/xla/stream_executor/cuda/cuda_dnn.cc:428] Loaded cuDNN version 8500\n",
            "2023-11-07 22:11:43.171165: I tensorflow/compiler/xla/service/service.cc:173] XLA service 0x7f6800014490 initialized for platform CUDA (this does not guarantee that XLA will be used). Devices:\n",
            "2023-11-07 22:11:43.171208: I tensorflow/compiler/xla/service/service.cc:181]   StreamExecutor device (0): NVIDIA GeForce RTX 2080 Ti, Compute Capability 7.5\n",
            "2023-11-07 22:11:43.176914: I tensorflow/compiler/mlir/tensorflow/utils/dump_mlir_util.cc:268] disabling MLIR crash reproducer, set env var `MLIR_CRASH_REPRODUCER_DIRECTORY` to enable.\n",
            "2023-11-07 22:11:43.406086: I tensorflow/compiler/jit/xla_compilation_cache.cc:477] Compiled cluster using XLA!  This line is logged at most once for the lifetime of the process.\n"
          ]
        },
        {
          "name": "stdout",
          "output_type": "stream",
          "text": [
            "1407/1407 [==============================] - ETA: 0s - loss: 1.4880 - accuracy: 0.4811"
          ]
        },
        {
          "name": "stderr",
          "output_type": "stream",
          "text": [
            "WARNING:absl:Found untraced functions such as _jit_compiled_convolution_op, _jit_compiled_convolution_op, _jit_compiled_convolution_op, _jit_compiled_convolution_op, _jit_compiled_convolution_op while saving (showing 5 of 28). These functions will not be directly callable after loading.\n"
          ]
        },
        {
          "name": "stdout",
          "output_type": "stream",
          "text": [
            "INFO:tensorflow:Assets written to: ./drive/MyDrive/colab_data/best_model/assets\n"
          ]
        },
        {
          "name": "stderr",
          "output_type": "stream",
          "text": [
            "INFO:tensorflow:Assets written to: ./drive/MyDrive/colab_data/best_model/assets\n"
          ]
        },
        {
          "name": "stdout",
          "output_type": "stream",
          "text": [
            "1407/1407 [==============================] - 53s 25ms/step - loss: 1.4880 - accuracy: 0.4811 - val_loss: 1.4703 - val_accuracy: 0.4986\n",
            "Epoch 2/200\n",
            "1406/1407 [============================>.] - ETA: 0s - loss: 0.9433 - accuracy: 0.6673"
          ]
        },
        {
          "name": "stderr",
          "output_type": "stream",
          "text": [
            "WARNING:absl:Found untraced functions such as _jit_compiled_convolution_op, _jit_compiled_convolution_op, _jit_compiled_convolution_op, _jit_compiled_convolution_op, _jit_compiled_convolution_op while saving (showing 5 of 28). These functions will not be directly callable after loading.\n"
          ]
        },
        {
          "name": "stdout",
          "output_type": "stream",
          "text": [
            "INFO:tensorflow:Assets written to: ./drive/MyDrive/colab_data/best_model/assets\n"
          ]
        },
        {
          "name": "stderr",
          "output_type": "stream",
          "text": [
            "INFO:tensorflow:Assets written to: ./drive/MyDrive/colab_data/best_model/assets\n"
          ]
        },
        {
          "name": "stdout",
          "output_type": "stream",
          "text": [
            "1407/1407 [==============================] - 33s 24ms/step - loss: 0.9434 - accuracy: 0.6673 - val_loss: 1.0638 - val_accuracy: 0.6522\n",
            "Epoch 3/200\n",
            "1406/1407 [============================>.] - ETA: 0s - loss: 0.7277 - accuracy: 0.7469"
          ]
        },
        {
          "name": "stderr",
          "output_type": "stream",
          "text": [
            "WARNING:absl:Found untraced functions such as _jit_compiled_convolution_op, _jit_compiled_convolution_op, _jit_compiled_convolution_op, _jit_compiled_convolution_op, _jit_compiled_convolution_op while saving (showing 5 of 28). These functions will not be directly callable after loading.\n"
          ]
        },
        {
          "name": "stdout",
          "output_type": "stream",
          "text": [
            "INFO:tensorflow:Assets written to: ./drive/MyDrive/colab_data/best_model/assets\n"
          ]
        },
        {
          "name": "stderr",
          "output_type": "stream",
          "text": [
            "INFO:tensorflow:Assets written to: ./drive/MyDrive/colab_data/best_model/assets\n"
          ]
        },
        {
          "name": "stdout",
          "output_type": "stream",
          "text": [
            "1407/1407 [==============================] - 33s 24ms/step - loss: 0.7277 - accuracy: 0.7469 - val_loss: 0.7769 - val_accuracy: 0.7470\n",
            "Epoch 4/200\n",
            "1405/1407 [============================>.] - ETA: 0s - loss: 0.5979 - accuracy: 0.7915"
          ]
        },
        {
          "name": "stderr",
          "output_type": "stream",
          "text": [
            "WARNING:absl:Found untraced functions such as _jit_compiled_convolution_op, _jit_compiled_convolution_op, _jit_compiled_convolution_op, _jit_compiled_convolution_op, _jit_compiled_convolution_op while saving (showing 5 of 28). These functions will not be directly callable after loading.\n"
          ]
        },
        {
          "name": "stdout",
          "output_type": "stream",
          "text": [
            "INFO:tensorflow:Assets written to: ./drive/MyDrive/colab_data/best_model/assets\n"
          ]
        },
        {
          "name": "stderr",
          "output_type": "stream",
          "text": [
            "INFO:tensorflow:Assets written to: ./drive/MyDrive/colab_data/best_model/assets\n"
          ]
        },
        {
          "name": "stdout",
          "output_type": "stream",
          "text": [
            "1407/1407 [==============================] - 33s 24ms/step - loss: 0.5980 - accuracy: 0.7915 - val_loss: 0.6553 - val_accuracy: 0.7844\n",
            "Epoch 5/200\n",
            "1407/1407 [==============================] - 24s 17ms/step - loss: 0.4966 - accuracy: 0.8260 - val_loss: 0.6989 - val_accuracy: 0.7778\n",
            "Epoch 6/200\n",
            "1405/1407 [============================>.] - ETA: 0s - loss: 0.4110 - accuracy: 0.8574"
          ]
        },
        {
          "name": "stderr",
          "output_type": "stream",
          "text": [
            "WARNING:absl:Found untraced functions such as _jit_compiled_convolution_op, _jit_compiled_convolution_op, _jit_compiled_convolution_op, _jit_compiled_convolution_op, _jit_compiled_convolution_op while saving (showing 5 of 28). These functions will not be directly callable after loading.\n"
          ]
        },
        {
          "name": "stdout",
          "output_type": "stream",
          "text": [
            "INFO:tensorflow:Assets written to: ./drive/MyDrive/colab_data/best_model/assets\n"
          ]
        },
        {
          "name": "stderr",
          "output_type": "stream",
          "text": [
            "INFO:tensorflow:Assets written to: ./drive/MyDrive/colab_data/best_model/assets\n"
          ]
        },
        {
          "name": "stdout",
          "output_type": "stream",
          "text": [
            "1407/1407 [==============================] - 33s 24ms/step - loss: 0.4110 - accuracy: 0.8574 - val_loss: 0.6633 - val_accuracy: 0.7848\n",
            "Epoch 7/200\n",
            "1404/1407 [============================>.] - ETA: 0s - loss: 0.3343 - accuracy: 0.8826"
          ]
        },
        {
          "name": "stderr",
          "output_type": "stream",
          "text": [
            "WARNING:absl:Found untraced functions such as _jit_compiled_convolution_op, _jit_compiled_convolution_op, _jit_compiled_convolution_op, _jit_compiled_convolution_op, _jit_compiled_convolution_op while saving (showing 5 of 28). These functions will not be directly callable after loading.\n"
          ]
        },
        {
          "name": "stdout",
          "output_type": "stream",
          "text": [
            "INFO:tensorflow:Assets written to: ./drive/MyDrive/colab_data/best_model/assets\n"
          ]
        },
        {
          "name": "stderr",
          "output_type": "stream",
          "text": [
            "INFO:tensorflow:Assets written to: ./drive/MyDrive/colab_data/best_model/assets\n"
          ]
        },
        {
          "name": "stdout",
          "output_type": "stream",
          "text": [
            "1407/1407 [==============================] - 34s 24ms/step - loss: 0.3342 - accuracy: 0.8827 - val_loss: 0.6123 - val_accuracy: 0.8130\n",
            "Epoch 8/200\n",
            "1407/1407 [==============================] - 24s 17ms/step - loss: 0.2756 - accuracy: 0.9035 - val_loss: 0.7186 - val_accuracy: 0.7956\n",
            "Epoch 9/200\n",
            "1407/1407 [==============================] - 24s 17ms/step - loss: 0.2325 - accuracy: 0.9184 - val_loss: 0.6587 - val_accuracy: 0.8106\n",
            "Epoch 10/200\n",
            "1407/1407 [==============================] - 24s 17ms/step - loss: 0.1887 - accuracy: 0.9334 - val_loss: 0.7989 - val_accuracy: 0.7972\n",
            "Epoch 11/200\n",
            "1407/1407 [==============================] - 24s 17ms/step - loss: 0.1622 - accuracy: 0.9430 - val_loss: 0.7549 - val_accuracy: 0.8034\n",
            "Epoch 12/200\n",
            "1407/1407 [==============================] - 24s 17ms/step - loss: 0.1454 - accuracy: 0.9475 - val_loss: 0.8242 - val_accuracy: 0.8034\n",
            "Epoch 13/200\n",
            "1407/1407 [==============================] - 24s 17ms/step - loss: 0.1331 - accuracy: 0.9540 - val_loss: 0.9062 - val_accuracy: 0.7868\n",
            "Epoch 14/200\n",
            "1407/1407 [==============================] - 24s 17ms/step - loss: 0.1235 - accuracy: 0.9566 - val_loss: 0.9225 - val_accuracy: 0.7978\n",
            "Epoch 15/200\n",
            "1405/1407 [============================>.] - ETA: 0s - loss: 0.1087 - accuracy: 0.9621"
          ]
        },
        {
          "name": "stderr",
          "output_type": "stream",
          "text": [
            "WARNING:absl:Found untraced functions such as _jit_compiled_convolution_op, _jit_compiled_convolution_op, _jit_compiled_convolution_op, _jit_compiled_convolution_op, _jit_compiled_convolution_op while saving (showing 5 of 28). These functions will not be directly callable after loading.\n"
          ]
        },
        {
          "name": "stdout",
          "output_type": "stream",
          "text": [
            "INFO:tensorflow:Assets written to: ./drive/MyDrive/colab_data/best_model/assets\n"
          ]
        },
        {
          "name": "stderr",
          "output_type": "stream",
          "text": [
            "INFO:tensorflow:Assets written to: ./drive/MyDrive/colab_data/best_model/assets\n"
          ]
        },
        {
          "name": "stdout",
          "output_type": "stream",
          "text": [
            "1407/1407 [==============================] - 34s 24ms/step - loss: 0.1087 - accuracy: 0.9621 - val_loss: 0.7798 - val_accuracy: 0.8216\n",
            "Epoch 16/200\n",
            "1407/1407 [==============================] - 24s 17ms/step - loss: 0.1054 - accuracy: 0.9639 - val_loss: 0.8297 - val_accuracy: 0.8156\n",
            "Epoch 17/200\n",
            "1407/1407 [==============================] - ETA: 0s - loss: 0.0895 - accuracy: 0.9686"
          ]
        },
        {
          "name": "stderr",
          "output_type": "stream",
          "text": [
            "WARNING:absl:Found untraced functions such as _jit_compiled_convolution_op, _jit_compiled_convolution_op, _jit_compiled_convolution_op, _jit_compiled_convolution_op, _jit_compiled_convolution_op while saving (showing 5 of 28). These functions will not be directly callable after loading.\n"
          ]
        },
        {
          "name": "stdout",
          "output_type": "stream",
          "text": [
            "INFO:tensorflow:Assets written to: ./drive/MyDrive/colab_data/best_model/assets\n"
          ]
        },
        {
          "name": "stderr",
          "output_type": "stream",
          "text": [
            "INFO:tensorflow:Assets written to: ./drive/MyDrive/colab_data/best_model/assets\n"
          ]
        },
        {
          "name": "stdout",
          "output_type": "stream",
          "text": [
            "1407/1407 [==============================] - 34s 24ms/step - loss: 0.0895 - accuracy: 0.9686 - val_loss: 0.7750 - val_accuracy: 0.8276\n",
            "Epoch 18/200\n",
            "1407/1407 [==============================] - 24s 17ms/step - loss: 0.0925 - accuracy: 0.9669 - val_loss: 0.9702 - val_accuracy: 0.8036\n",
            "Epoch 19/200\n",
            "1407/1407 [==============================] - 24s 17ms/step - loss: 0.0815 - accuracy: 0.9719 - val_loss: 0.7999 - val_accuracy: 0.8198\n",
            "Epoch 20/200\n",
            "1407/1407 [==============================] - 24s 17ms/step - loss: 0.0774 - accuracy: 0.9735 - val_loss: 0.8142 - val_accuracy: 0.8216\n",
            "Epoch 21/200\n",
            "1407/1407 [==============================] - 24s 17ms/step - loss: 0.0781 - accuracy: 0.9733 - val_loss: 0.8510 - val_accuracy: 0.8226\n",
            "Epoch 22/200\n",
            "1407/1407 [==============================] - 24s 17ms/step - loss: 0.0718 - accuracy: 0.9750 - val_loss: 0.8410 - val_accuracy: 0.8266\n",
            "Epoch 23/200\n",
            "1404/1407 [============================>.] - ETA: 0s - loss: 0.0673 - accuracy: 0.9760"
          ]
        },
        {
          "name": "stderr",
          "output_type": "stream",
          "text": [
            "WARNING:absl:Found untraced functions such as _jit_compiled_convolution_op, _jit_compiled_convolution_op, _jit_compiled_convolution_op, _jit_compiled_convolution_op, _jit_compiled_convolution_op while saving (showing 5 of 28). These functions will not be directly callable after loading.\n"
          ]
        },
        {
          "name": "stdout",
          "output_type": "stream",
          "text": [
            "INFO:tensorflow:Assets written to: ./drive/MyDrive/colab_data/best_model/assets\n"
          ]
        },
        {
          "name": "stderr",
          "output_type": "stream",
          "text": [
            "INFO:tensorflow:Assets written to: ./drive/MyDrive/colab_data/best_model/assets\n"
          ]
        },
        {
          "name": "stdout",
          "output_type": "stream",
          "text": [
            "1407/1407 [==============================] - 34s 24ms/step - loss: 0.0678 - accuracy: 0.9758 - val_loss: 0.8430 - val_accuracy: 0.8292\n",
            "Epoch 24/200\n",
            "1405/1407 [============================>.] - ETA: 0s - loss: 0.0670 - accuracy: 0.9776"
          ]
        },
        {
          "name": "stderr",
          "output_type": "stream",
          "text": [
            "WARNING:absl:Found untraced functions such as _jit_compiled_convolution_op, _jit_compiled_convolution_op, _jit_compiled_convolution_op, _jit_compiled_convolution_op, _jit_compiled_convolution_op while saving (showing 5 of 28). These functions will not be directly callable after loading.\n"
          ]
        },
        {
          "name": "stdout",
          "output_type": "stream",
          "text": [
            "INFO:tensorflow:Assets written to: ./drive/MyDrive/colab_data/best_model/assets\n"
          ]
        },
        {
          "name": "stderr",
          "output_type": "stream",
          "text": [
            "INFO:tensorflow:Assets written to: ./drive/MyDrive/colab_data/best_model/assets\n"
          ]
        },
        {
          "name": "stdout",
          "output_type": "stream",
          "text": [
            "1407/1407 [==============================] - 34s 24ms/step - loss: 0.0671 - accuracy: 0.9776 - val_loss: 0.8124 - val_accuracy: 0.8330\n",
            "Epoch 25/200\n",
            "1407/1407 [==============================] - 24s 17ms/step - loss: 0.0616 - accuracy: 0.9788 - val_loss: 0.8820 - val_accuracy: 0.8302\n",
            "Epoch 26/200\n",
            "1404/1407 [============================>.] - ETA: 0s - loss: 0.0573 - accuracy: 0.9808"
          ]
        },
        {
          "name": "stderr",
          "output_type": "stream",
          "text": [
            "WARNING:absl:Found untraced functions such as _jit_compiled_convolution_op, _jit_compiled_convolution_op, _jit_compiled_convolution_op, _jit_compiled_convolution_op, _jit_compiled_convolution_op while saving (showing 5 of 28). These functions will not be directly callable after loading.\n"
          ]
        },
        {
          "name": "stdout",
          "output_type": "stream",
          "text": [
            "INFO:tensorflow:Assets written to: ./drive/MyDrive/colab_data/best_model/assets\n"
          ]
        },
        {
          "name": "stderr",
          "output_type": "stream",
          "text": [
            "INFO:tensorflow:Assets written to: ./drive/MyDrive/colab_data/best_model/assets\n"
          ]
        },
        {
          "name": "stdout",
          "output_type": "stream",
          "text": [
            "1407/1407 [==============================] - 34s 24ms/step - loss: 0.0574 - accuracy: 0.9808 - val_loss: 0.8127 - val_accuracy: 0.8352\n",
            "Epoch 27/200\n",
            "1407/1407 [==============================] - 24s 17ms/step - loss: 0.0560 - accuracy: 0.9808 - val_loss: 0.8628 - val_accuracy: 0.8288\n",
            "Epoch 28/200\n",
            "1407/1407 [==============================] - 24s 17ms/step - loss: 0.0584 - accuracy: 0.9804 - val_loss: 0.8806 - val_accuracy: 0.8242\n",
            "Epoch 29/200\n",
            "1407/1407 [==============================] - 24s 17ms/step - loss: 0.0530 - accuracy: 0.9814 - val_loss: 0.8882 - val_accuracy: 0.8294\n",
            "Epoch 30/200\n",
            "1407/1407 [==============================] - 25s 17ms/step - loss: 0.0478 - accuracy: 0.9839 - val_loss: 1.0185 - val_accuracy: 0.8112\n",
            "Epoch 31/200\n",
            "1407/1407 [==============================] - 24s 17ms/step - loss: 0.0501 - accuracy: 0.9828 - val_loss: 0.8869 - val_accuracy: 0.8280\n",
            "Epoch 32/200\n",
            "1407/1407 [==============================] - 24s 17ms/step - loss: 0.0458 - accuracy: 0.9841 - val_loss: 0.8453 - val_accuracy: 0.8330\n",
            "Epoch 33/200\n",
            "1407/1407 [==============================] - 24s 17ms/step - loss: 0.0451 - accuracy: 0.9838 - val_loss: 1.1140 - val_accuracy: 0.7976\n",
            "Epoch 34/200\n",
            "1407/1407 [==============================] - 25s 17ms/step - loss: 0.0437 - accuracy: 0.9851 - val_loss: 0.9280 - val_accuracy: 0.8270\n",
            "Epoch 35/200\n",
            "1407/1407 [==============================] - 25s 17ms/step - loss: 0.0406 - accuracy: 0.9860 - val_loss: 0.8955 - val_accuracy: 0.8298\n",
            "Epoch 36/200\n",
            "1406/1407 [============================>.] - ETA: 0s - loss: 0.0434 - accuracy: 0.9848"
          ]
        },
        {
          "name": "stderr",
          "output_type": "stream",
          "text": [
            "WARNING:absl:Found untraced functions such as _jit_compiled_convolution_op, _jit_compiled_convolution_op, _jit_compiled_convolution_op, _jit_compiled_convolution_op, _jit_compiled_convolution_op while saving (showing 5 of 28). These functions will not be directly callable after loading.\n"
          ]
        },
        {
          "name": "stdout",
          "output_type": "stream",
          "text": [
            "INFO:tensorflow:Assets written to: ./drive/MyDrive/colab_data/best_model/assets\n"
          ]
        },
        {
          "name": "stderr",
          "output_type": "stream",
          "text": [
            "INFO:tensorflow:Assets written to: ./drive/MyDrive/colab_data/best_model/assets\n"
          ]
        },
        {
          "name": "stdout",
          "output_type": "stream",
          "text": [
            "1407/1407 [==============================] - 34s 24ms/step - loss: 0.0434 - accuracy: 0.9848 - val_loss: 0.9154 - val_accuracy: 0.8358\n",
            "Epoch 37/200\n",
            "1407/1407 [==============================] - 25s 17ms/step - loss: 0.0401 - accuracy: 0.9863 - val_loss: 0.9750 - val_accuracy: 0.8258\n",
            "Epoch 38/200\n",
            "1407/1407 [==============================] - 25s 17ms/step - loss: 0.0403 - accuracy: 0.9867 - val_loss: 0.9203 - val_accuracy: 0.8296\n",
            "Epoch 39/200\n",
            "1407/1407 [==============================] - 25s 17ms/step - loss: 0.0396 - accuracy: 0.9866 - val_loss: 1.0175 - val_accuracy: 0.8224\n",
            "Epoch 40/200\n",
            "1406/1407 [============================>.] - ETA: 0s - loss: 0.0387 - accuracy: 0.9868"
          ]
        },
        {
          "name": "stderr",
          "output_type": "stream",
          "text": [
            "WARNING:absl:Found untraced functions such as _jit_compiled_convolution_op, _jit_compiled_convolution_op, _jit_compiled_convolution_op, _jit_compiled_convolution_op, _jit_compiled_convolution_op while saving (showing 5 of 28). These functions will not be directly callable after loading.\n"
          ]
        },
        {
          "name": "stdout",
          "output_type": "stream",
          "text": [
            "INFO:tensorflow:Assets written to: ./drive/MyDrive/colab_data/best_model/assets\n"
          ]
        },
        {
          "name": "stderr",
          "output_type": "stream",
          "text": [
            "INFO:tensorflow:Assets written to: ./drive/MyDrive/colab_data/best_model/assets\n"
          ]
        },
        {
          "name": "stdout",
          "output_type": "stream",
          "text": [
            "1407/1407 [==============================] - 34s 24ms/step - loss: 0.0387 - accuracy: 0.9868 - val_loss: 0.8694 - val_accuracy: 0.8414\n",
            "Epoch 41/200\n",
            "1407/1407 [==============================] - 24s 17ms/step - loss: 0.0349 - accuracy: 0.9885 - val_loss: 0.9116 - val_accuracy: 0.8356\n",
            "Epoch 42/200\n",
            "1407/1407 [==============================] - 25s 17ms/step - loss: 0.0357 - accuracy: 0.9874 - val_loss: 0.8983 - val_accuracy: 0.8392\n",
            "Epoch 43/200\n",
            "1407/1407 [==============================] - 25s 17ms/step - loss: 0.0370 - accuracy: 0.9879 - val_loss: 0.8927 - val_accuracy: 0.8400\n",
            "Epoch 44/200\n",
            "1407/1407 [==============================] - 25s 17ms/step - loss: 0.0299 - accuracy: 0.9896 - val_loss: 0.9362 - val_accuracy: 0.8392\n",
            "Epoch 45/200\n",
            "1406/1407 [============================>.] - ETA: 0s - loss: 0.0378 - accuracy: 0.9868"
          ]
        },
        {
          "name": "stderr",
          "output_type": "stream",
          "text": [
            "WARNING:absl:Found untraced functions such as _jit_compiled_convolution_op, _jit_compiled_convolution_op, _jit_compiled_convolution_op, _jit_compiled_convolution_op, _jit_compiled_convolution_op while saving (showing 5 of 28). These functions will not be directly callable after loading.\n"
          ]
        },
        {
          "name": "stdout",
          "output_type": "stream",
          "text": [
            "INFO:tensorflow:Assets written to: ./drive/MyDrive/colab_data/best_model/assets\n"
          ]
        },
        {
          "name": "stderr",
          "output_type": "stream",
          "text": [
            "INFO:tensorflow:Assets written to: ./drive/MyDrive/colab_data/best_model/assets\n"
          ]
        },
        {
          "name": "stdout",
          "output_type": "stream",
          "text": [
            "1407/1407 [==============================] - 34s 24ms/step - loss: 0.0378 - accuracy: 0.9868 - val_loss: 0.8889 - val_accuracy: 0.8424\n",
            "Epoch 46/200\n",
            "1407/1407 [==============================] - 25s 17ms/step - loss: 0.0251 - accuracy: 0.9914 - val_loss: 0.9743 - val_accuracy: 0.8344\n",
            "Epoch 47/200\n",
            "1406/1407 [============================>.] - ETA: 0s - loss: 0.0354 - accuracy: 0.9880"
          ]
        },
        {
          "name": "stderr",
          "output_type": "stream",
          "text": [
            "WARNING:absl:Found untraced functions such as _jit_compiled_convolution_op, _jit_compiled_convolution_op, _jit_compiled_convolution_op, _jit_compiled_convolution_op, _jit_compiled_convolution_op while saving (showing 5 of 28). These functions will not be directly callable after loading.\n"
          ]
        },
        {
          "name": "stdout",
          "output_type": "stream",
          "text": [
            "INFO:tensorflow:Assets written to: ./drive/MyDrive/colab_data/best_model/assets\n"
          ]
        },
        {
          "name": "stderr",
          "output_type": "stream",
          "text": [
            "INFO:tensorflow:Assets written to: ./drive/MyDrive/colab_data/best_model/assets\n"
          ]
        },
        {
          "name": "stdout",
          "output_type": "stream",
          "text": [
            "1407/1407 [==============================] - 34s 24ms/step - loss: 0.0354 - accuracy: 0.9880 - val_loss: 0.8577 - val_accuracy: 0.8444\n",
            "Epoch 48/200\n",
            "1407/1407 [==============================] - 25s 17ms/step - loss: 0.0337 - accuracy: 0.9886 - val_loss: 0.9165 - val_accuracy: 0.8352\n",
            "Epoch 49/200\n",
            "1407/1407 [==============================] - 25s 17ms/step - loss: 0.0237 - accuracy: 0.9911 - val_loss: 0.9838 - val_accuracy: 0.8414\n",
            "Epoch 50/200\n",
            "1407/1407 [==============================] - 25s 17ms/step - loss: 0.0330 - accuracy: 0.9887 - val_loss: 1.0441 - val_accuracy: 0.8248\n",
            "Epoch 51/200\n",
            "1407/1407 [==============================] - 25s 17ms/step - loss: 0.0287 - accuracy: 0.9902 - val_loss: 1.0203 - val_accuracy: 0.8374\n",
            "Epoch 52/200\n",
            "1407/1407 [==============================] - 25s 17ms/step - loss: 0.0305 - accuracy: 0.9895 - val_loss: 0.9123 - val_accuracy: 0.8396\n",
            "Epoch 53/200\n",
            "1407/1407 [==============================] - 25s 17ms/step - loss: 0.0249 - accuracy: 0.9916 - val_loss: 1.0208 - val_accuracy: 0.8314\n",
            "Epoch 54/200\n",
            "1407/1407 [==============================] - 25s 17ms/step - loss: 0.0285 - accuracy: 0.9902 - val_loss: 0.9992 - val_accuracy: 0.8356\n",
            "Epoch 55/200\n",
            "1407/1407 [==============================] - 25s 17ms/step - loss: 0.0287 - accuracy: 0.9906 - val_loss: 1.0397 - val_accuracy: 0.8284\n",
            "Epoch 56/200\n",
            "1407/1407 [==============================] - 25s 17ms/step - loss: 0.0249 - accuracy: 0.9921 - val_loss: 1.0998 - val_accuracy: 0.8292\n",
            "Epoch 57/200\n",
            "1407/1407 [==============================] - 25s 17ms/step - loss: 0.0278 - accuracy: 0.9897 - val_loss: 1.0338 - val_accuracy: 0.8342\n",
            "Epoch 58/200\n",
            "1407/1407 [==============================] - 25s 17ms/step - loss: 0.0274 - accuracy: 0.9906 - val_loss: 0.9829 - val_accuracy: 0.8390\n",
            "Epoch 59/200\n",
            "1407/1407 [==============================] - 25s 17ms/step - loss: 0.0257 - accuracy: 0.9913 - val_loss: 1.0573 - val_accuracy: 0.8376\n",
            "Epoch 60/200\n",
            "1407/1407 [==============================] - 25s 17ms/step - loss: 0.0255 - accuracy: 0.9915 - val_loss: 1.0330 - val_accuracy: 0.8392\n",
            "Epoch 61/200\n",
            "1407/1407 [==============================] - 25s 17ms/step - loss: 0.0263 - accuracy: 0.9910 - val_loss: 1.0985 - val_accuracy: 0.8312\n",
            "Epoch 62/200\n",
            "1407/1407 [==============================] - 25s 18ms/step - loss: 0.0280 - accuracy: 0.9905 - val_loss: 0.9223 - val_accuracy: 0.8428\n",
            "Epoch 63/200\n",
            "1407/1407 [==============================] - 25s 17ms/step - loss: 0.0197 - accuracy: 0.9934 - val_loss: 1.1002 - val_accuracy: 0.8330\n",
            "Epoch 64/200\n",
            "1407/1407 [==============================] - 25s 17ms/step - loss: 0.0250 - accuracy: 0.9914 - val_loss: 1.0637 - val_accuracy: 0.8342\n",
            "Epoch 65/200\n",
            "1407/1407 [==============================] - 25s 17ms/step - loss: 0.0254 - accuracy: 0.9914 - val_loss: 1.0539 - val_accuracy: 0.8272\n",
            "Epoch 66/200\n",
            "1407/1407 [==============================] - 25s 17ms/step - loss: 0.0216 - accuracy: 0.9928 - val_loss: 1.0422 - val_accuracy: 0.8408\n",
            "Epoch 67/200\n",
            "1407/1407 [==============================] - 25s 17ms/step - loss: 0.0243 - accuracy: 0.9921 - val_loss: 1.0616 - val_accuracy: 0.8362\n",
            "Epoch 68/200\n",
            "1407/1407 [==============================] - 25s 18ms/step - loss: 0.0198 - accuracy: 0.9927 - val_loss: 1.1168 - val_accuracy: 0.8320\n",
            "Epoch 69/200\n",
            "1407/1407 [==============================] - 25s 18ms/step - loss: 0.0230 - accuracy: 0.9929 - val_loss: 1.0597 - val_accuracy: 0.8388\n",
            "Epoch 70/200\n",
            "1407/1407 [==============================] - 25s 17ms/step - loss: 0.0221 - accuracy: 0.9927 - val_loss: 1.0427 - val_accuracy: 0.8444\n",
            "Epoch 71/200\n",
            "1407/1407 [==============================] - 25s 18ms/step - loss: 0.0232 - accuracy: 0.9919 - val_loss: 1.0579 - val_accuracy: 0.8444\n",
            "Epoch 72/200\n",
            "1407/1407 [==============================] - 25s 17ms/step - loss: 0.0187 - accuracy: 0.9932 - val_loss: 1.1016 - val_accuracy: 0.8384\n",
            "Epoch 73/200\n",
            "1407/1407 [==============================] - 25s 17ms/step - loss: 0.0231 - accuracy: 0.9920 - val_loss: 1.0046 - val_accuracy: 0.8430\n",
            "Epoch 74/200\n",
            "1407/1407 [==============================] - 25s 18ms/step - loss: 0.0201 - accuracy: 0.9931 - val_loss: 1.1604 - val_accuracy: 0.8346\n",
            "Epoch 75/200\n",
            "1407/1407 [==============================] - 25s 17ms/step - loss: 0.0211 - accuracy: 0.9926 - val_loss: 1.0390 - val_accuracy: 0.8412\n",
            "Epoch 76/200\n",
            "1407/1407 [==============================] - 25s 17ms/step - loss: 0.0180 - accuracy: 0.9940 - val_loss: 1.0955 - val_accuracy: 0.8376\n",
            "Epoch 77/200\n",
            "1407/1407 [==============================] - 25s 17ms/step - loss: 0.0239 - accuracy: 0.9918 - val_loss: 0.9831 - val_accuracy: 0.8386\n",
            "Epoch 78/200\n",
            "1407/1407 [==============================] - 25s 17ms/step - loss: 0.0192 - accuracy: 0.9935 - val_loss: 1.0725 - val_accuracy: 0.8364\n",
            "Epoch 79/200\n",
            "1407/1407 [==============================] - 24s 17ms/step - loss: 0.0174 - accuracy: 0.9943 - val_loss: 1.1153 - val_accuracy: 0.8362\n",
            "Epoch 80/200\n",
            "1407/1407 [==============================] - 24s 17ms/step - loss: 0.0205 - accuracy: 0.9928 - val_loss: 1.0970 - val_accuracy: 0.8394\n",
            "Epoch 81/200\n",
            "1407/1407 [==============================] - 24s 17ms/step - loss: 0.0201 - accuracy: 0.9930 - val_loss: 1.1009 - val_accuracy: 0.8344\n",
            "Epoch 82/200\n",
            "1405/1407 [============================>.] - ETA: 0s - loss: 0.0211 - accuracy: 0.9927"
          ]
        },
        {
          "name": "stderr",
          "output_type": "stream",
          "text": [
            "WARNING:absl:Found untraced functions such as _jit_compiled_convolution_op, _jit_compiled_convolution_op, _jit_compiled_convolution_op, _jit_compiled_convolution_op, _jit_compiled_convolution_op while saving (showing 5 of 28). These functions will not be directly callable after loading.\n"
          ]
        },
        {
          "name": "stdout",
          "output_type": "stream",
          "text": [
            "INFO:tensorflow:Assets written to: ./drive/MyDrive/colab_data/best_model/assets\n"
          ]
        },
        {
          "name": "stderr",
          "output_type": "stream",
          "text": [
            "INFO:tensorflow:Assets written to: ./drive/MyDrive/colab_data/best_model/assets\n"
          ]
        },
        {
          "name": "stdout",
          "output_type": "stream",
          "text": [
            "1407/1407 [==============================] - 34s 24ms/step - loss: 0.0211 - accuracy: 0.9927 - val_loss: 1.0370 - val_accuracy: 0.8448\n",
            "Epoch 83/200\n",
            "1407/1407 [==============================] - 25s 18ms/step - loss: 0.0157 - accuracy: 0.9949 - val_loss: 1.1162 - val_accuracy: 0.8432\n",
            "Epoch 84/200\n",
            "1407/1407 [==============================] - 25s 17ms/step - loss: 0.0234 - accuracy: 0.9920 - val_loss: 1.0828 - val_accuracy: 0.8442\n",
            "Epoch 85/200\n",
            "1407/1407 [==============================] - 25s 18ms/step - loss: 0.0173 - accuracy: 0.9942 - val_loss: 1.1513 - val_accuracy: 0.8344\n",
            "Epoch 86/200\n",
            "1407/1407 [==============================] - 25s 18ms/step - loss: 0.0188 - accuracy: 0.9937 - val_loss: 1.0414 - val_accuracy: 0.8392\n",
            "Epoch 87/200\n",
            "1405/1407 [============================>.] - ETA: 0s - loss: 0.0146 - accuracy: 0.9952"
          ]
        },
        {
          "name": "stderr",
          "output_type": "stream",
          "text": [
            "WARNING:absl:Found untraced functions such as _jit_compiled_convolution_op, _jit_compiled_convolution_op, _jit_compiled_convolution_op, _jit_compiled_convolution_op, _jit_compiled_convolution_op while saving (showing 5 of 28). These functions will not be directly callable after loading.\n"
          ]
        },
        {
          "name": "stdout",
          "output_type": "stream",
          "text": [
            "INFO:tensorflow:Assets written to: ./drive/MyDrive/colab_data/best_model/assets\n"
          ]
        },
        {
          "name": "stderr",
          "output_type": "stream",
          "text": [
            "INFO:tensorflow:Assets written to: ./drive/MyDrive/colab_data/best_model/assets\n"
          ]
        },
        {
          "name": "stdout",
          "output_type": "stream",
          "text": [
            "1407/1407 [==============================] - 34s 24ms/step - loss: 0.0146 - accuracy: 0.9952 - val_loss: 1.0528 - val_accuracy: 0.8482\n",
            "Epoch 88/200\n",
            "1407/1407 [==============================] - 25s 18ms/step - loss: 0.0187 - accuracy: 0.9941 - val_loss: 1.1523 - val_accuracy: 0.8378\n",
            "Epoch 89/200\n",
            "1407/1407 [==============================] - 25s 17ms/step - loss: 0.0213 - accuracy: 0.9931 - val_loss: 1.0297 - val_accuracy: 0.8456\n",
            "Epoch 90/200\n",
            "1406/1407 [============================>.] - ETA: 0s - loss: 0.0154 - accuracy: 0.9945"
          ]
        },
        {
          "name": "stderr",
          "output_type": "stream",
          "text": [
            "WARNING:absl:Found untraced functions such as _jit_compiled_convolution_op, _jit_compiled_convolution_op, _jit_compiled_convolution_op, _jit_compiled_convolution_op, _jit_compiled_convolution_op while saving (showing 5 of 28). These functions will not be directly callable after loading.\n"
          ]
        },
        {
          "name": "stdout",
          "output_type": "stream",
          "text": [
            "INFO:tensorflow:Assets written to: ./drive/MyDrive/colab_data/best_model/assets\n"
          ]
        },
        {
          "name": "stderr",
          "output_type": "stream",
          "text": [
            "INFO:tensorflow:Assets written to: ./drive/MyDrive/colab_data/best_model/assets\n"
          ]
        },
        {
          "name": "stdout",
          "output_type": "stream",
          "text": [
            "1407/1407 [==============================] - 34s 24ms/step - loss: 0.0155 - accuracy: 0.9945 - val_loss: 1.0186 - val_accuracy: 0.8490\n",
            "Epoch 91/200\n",
            "1404/1407 [============================>.] - ETA: 0s - loss: 0.0207 - accuracy: 0.9932"
          ]
        },
        {
          "name": "stderr",
          "output_type": "stream",
          "text": [
            "WARNING:absl:Found untraced functions such as _jit_compiled_convolution_op, _jit_compiled_convolution_op, _jit_compiled_convolution_op, _jit_compiled_convolution_op, _jit_compiled_convolution_op while saving (showing 5 of 28). These functions will not be directly callable after loading.\n"
          ]
        },
        {
          "name": "stdout",
          "output_type": "stream",
          "text": [
            "INFO:tensorflow:Assets written to: ./drive/MyDrive/colab_data/best_model/assets\n"
          ]
        },
        {
          "name": "stderr",
          "output_type": "stream",
          "text": [
            "INFO:tensorflow:Assets written to: ./drive/MyDrive/colab_data/best_model/assets\n"
          ]
        },
        {
          "name": "stdout",
          "output_type": "stream",
          "text": [
            "1407/1407 [==============================] - 34s 24ms/step - loss: 0.0207 - accuracy: 0.9932 - val_loss: 0.9956 - val_accuracy: 0.8502\n",
            "Epoch 92/200\n",
            "1407/1407 [==============================] - 25s 18ms/step - loss: 0.0159 - accuracy: 0.9944 - val_loss: 1.0561 - val_accuracy: 0.8468\n",
            "Epoch 93/200\n",
            "1407/1407 [==============================] - 25s 18ms/step - loss: 0.0141 - accuracy: 0.9952 - val_loss: 1.0460 - val_accuracy: 0.8486\n",
            "Epoch 94/200\n",
            "1407/1407 [==============================] - 25s 18ms/step - loss: 0.0196 - accuracy: 0.9932 - val_loss: 1.1224 - val_accuracy: 0.8428\n",
            "Epoch 95/200\n",
            "1407/1407 [==============================] - 25s 18ms/step - loss: 0.0152 - accuracy: 0.9953 - val_loss: 1.1868 - val_accuracy: 0.8312\n",
            "Epoch 96/200\n",
            "1407/1407 [==============================] - 25s 18ms/step - loss: 0.0166 - accuracy: 0.9941 - val_loss: 1.1483 - val_accuracy: 0.8412\n",
            "Epoch 97/200\n",
            "1407/1407 [==============================] - 25s 18ms/step - loss: 0.0174 - accuracy: 0.9943 - val_loss: 1.1377 - val_accuracy: 0.8432\n",
            "Epoch 98/200\n",
            "1407/1407 [==============================] - 25s 18ms/step - loss: 0.0149 - accuracy: 0.9948 - val_loss: 1.0688 - val_accuracy: 0.8460\n",
            "Epoch 99/200\n",
            "1407/1407 [==============================] - 25s 18ms/step - loss: 0.0166 - accuracy: 0.9942 - val_loss: 1.1242 - val_accuracy: 0.8388\n",
            "Epoch 100/200\n",
            "1407/1407 [==============================] - 25s 18ms/step - loss: 0.0148 - accuracy: 0.9949 - val_loss: 1.0923 - val_accuracy: 0.8452\n",
            "Epoch 101/200\n",
            "1407/1407 [==============================] - 25s 18ms/step - loss: 0.0145 - accuracy: 0.9951 - val_loss: 1.2098 - val_accuracy: 0.8338\n",
            "Epoch 102/200\n",
            "1407/1407 [==============================] - 25s 18ms/step - loss: 0.0166 - accuracy: 0.9944 - val_loss: 1.1878 - val_accuracy: 0.8448\n",
            "Epoch 103/200\n",
            "1407/1407 [==============================] - 25s 18ms/step - loss: 0.0177 - accuracy: 0.9939 - val_loss: 1.1369 - val_accuracy: 0.8440\n",
            "Epoch 104/200\n",
            "1407/1407 [==============================] - 25s 18ms/step - loss: 0.0160 - accuracy: 0.9948 - val_loss: 1.1106 - val_accuracy: 0.8440\n",
            "Epoch 105/200\n",
            "1407/1407 [==============================] - 25s 18ms/step - loss: 0.0160 - accuracy: 0.9949 - val_loss: 1.1038 - val_accuracy: 0.8444\n",
            "Epoch 106/200\n",
            "1407/1407 [==============================] - 25s 18ms/step - loss: 0.0155 - accuracy: 0.9949 - val_loss: 1.2354 - val_accuracy: 0.8306\n",
            "Epoch 107/200\n",
            "1407/1407 [==============================] - ETA: 0s - loss: 0.0169 - accuracy: 0.9946"
          ]
        },
        {
          "name": "stderr",
          "output_type": "stream",
          "text": [
            "WARNING:absl:Found untraced functions such as _jit_compiled_convolution_op, _jit_compiled_convolution_op, _jit_compiled_convolution_op, _jit_compiled_convolution_op, _jit_compiled_convolution_op while saving (showing 5 of 28). These functions will not be directly callable after loading.\n"
          ]
        },
        {
          "name": "stdout",
          "output_type": "stream",
          "text": [
            "INFO:tensorflow:Assets written to: ./drive/MyDrive/colab_data/best_model/assets\n"
          ]
        },
        {
          "name": "stderr",
          "output_type": "stream",
          "text": [
            "INFO:tensorflow:Assets written to: ./drive/MyDrive/colab_data/best_model/assets\n"
          ]
        },
        {
          "name": "stdout",
          "output_type": "stream",
          "text": [
            "1407/1407 [==============================] - 34s 25ms/step - loss: 0.0169 - accuracy: 0.9946 - val_loss: 1.1018 - val_accuracy: 0.8514\n",
            "Epoch 108/200\n",
            "1407/1407 [==============================] - 25s 18ms/step - loss: 0.0108 - accuracy: 0.9963 - val_loss: 1.1457 - val_accuracy: 0.8402\n",
            "Epoch 109/200\n",
            "1407/1407 [==============================] - 25s 18ms/step - loss: 0.0132 - accuracy: 0.9954 - val_loss: 1.2495 - val_accuracy: 0.8310\n",
            "Epoch 110/200\n",
            "1407/1407 [==============================] - 25s 18ms/step - loss: 0.0177 - accuracy: 0.9945 - val_loss: 1.2522 - val_accuracy: 0.8432\n",
            "Epoch 111/200\n",
            "1407/1407 [==============================] - 25s 18ms/step - loss: 0.0135 - accuracy: 0.9951 - val_loss: 1.2892 - val_accuracy: 0.8394\n",
            "Epoch 112/200\n",
            "1407/1407 [==============================] - 25s 18ms/step - loss: 0.0161 - accuracy: 0.9948 - val_loss: 1.2674 - val_accuracy: 0.8368\n",
            "Epoch 113/200\n",
            "1407/1407 [==============================] - 25s 18ms/step - loss: 0.0143 - accuracy: 0.9950 - val_loss: 1.1797 - val_accuracy: 0.8448\n",
            "Epoch 114/200\n",
            "1407/1407 [==============================] - 25s 18ms/step - loss: 0.0181 - accuracy: 0.9942 - val_loss: 1.0533 - val_accuracy: 0.8484\n",
            "Epoch 115/200\n",
            "1407/1407 [==============================] - 25s 18ms/step - loss: 0.0112 - accuracy: 0.9962 - val_loss: 1.1312 - val_accuracy: 0.8430\n",
            "Epoch 116/200\n",
            "1407/1407 [==============================] - 25s 18ms/step - loss: 0.0152 - accuracy: 0.9951 - val_loss: 1.2054 - val_accuracy: 0.8388\n",
            "Epoch 117/200\n",
            "1407/1407 [==============================] - 25s 18ms/step - loss: 0.0146 - accuracy: 0.9950 - val_loss: 1.1990 - val_accuracy: 0.8398\n",
            "Epoch 118/200\n",
            "1407/1407 [==============================] - 25s 18ms/step - loss: 0.0139 - accuracy: 0.9953 - val_loss: 1.1515 - val_accuracy: 0.8446\n",
            "Epoch 119/200\n",
            "1407/1407 [==============================] - 25s 18ms/step - loss: 0.0128 - accuracy: 0.9956 - val_loss: 1.1389 - val_accuracy: 0.8450\n",
            "Epoch 120/200\n",
            "1407/1407 [==============================] - 25s 18ms/step - loss: 0.0125 - accuracy: 0.9959 - val_loss: 1.2177 - val_accuracy: 0.8432\n",
            "Epoch 121/200\n",
            "1407/1407 [==============================] - 25s 17ms/step - loss: 0.0153 - accuracy: 0.9952 - val_loss: 1.2635 - val_accuracy: 0.8398\n",
            "Epoch 122/200\n",
            "1407/1407 [==============================] - 24s 17ms/step - loss: 0.0168 - accuracy: 0.9947 - val_loss: 1.2509 - val_accuracy: 0.8346\n",
            "Epoch 123/200\n",
            "1407/1407 [==============================] - 25s 17ms/step - loss: 0.0102 - accuracy: 0.9968 - val_loss: 1.2543 - val_accuracy: 0.8376\n",
            "Epoch 124/200\n",
            "1407/1407 [==============================] - 25s 17ms/step - loss: 0.0159 - accuracy: 0.9950 - val_loss: 1.1874 - val_accuracy: 0.8436\n",
            "Epoch 125/200\n",
            "1407/1407 [==============================] - 25s 17ms/step - loss: 0.0106 - accuracy: 0.9962 - val_loss: 1.2323 - val_accuracy: 0.8374\n",
            "Epoch 126/200\n",
            "1407/1407 [==============================] - 25s 17ms/step - loss: 0.0150 - accuracy: 0.9947 - val_loss: 1.2122 - val_accuracy: 0.8432\n",
            "Epoch 127/200\n",
            "1407/1407 [==============================] - 24s 17ms/step - loss: 0.0160 - accuracy: 0.9952 - val_loss: 1.1902 - val_accuracy: 0.8462\n",
            "Epoch 128/200\n",
            "1407/1407 [==============================] - 24s 17ms/step - loss: 0.0119 - accuracy: 0.9962 - val_loss: 1.1396 - val_accuracy: 0.8510\n",
            "Epoch 129/200\n",
            "1407/1407 [==============================] - 25s 17ms/step - loss: 0.0135 - accuracy: 0.9957 - val_loss: 1.2090 - val_accuracy: 0.8352\n",
            "Epoch 130/200\n",
            "1407/1407 [==============================] - 24s 17ms/step - loss: 0.0117 - accuracy: 0.9962 - val_loss: 1.2855 - val_accuracy: 0.8420\n",
            "Epoch 131/200\n",
            "1407/1407 [==============================] - 24s 17ms/step - loss: 0.0130 - accuracy: 0.9957 - val_loss: 1.2627 - val_accuracy: 0.8372\n",
            "Epoch 132/200\n",
            "1407/1407 [==============================] - 24s 17ms/step - loss: 0.0127 - accuracy: 0.9958 - val_loss: 1.2440 - val_accuracy: 0.8426\n",
            "Epoch 133/200\n",
            "1407/1407 [==============================] - 25s 17ms/step - loss: 0.0133 - accuracy: 0.9958 - val_loss: 1.1848 - val_accuracy: 0.8466\n",
            "Epoch 134/200\n",
            "1407/1407 [==============================] - 25s 17ms/step - loss: 0.0121 - accuracy: 0.9959 - val_loss: 1.1554 - val_accuracy: 0.8478\n",
            "Epoch 135/200\n",
            "1407/1407 [==============================] - 24s 17ms/step - loss: 0.0134 - accuracy: 0.9960 - val_loss: 1.2666 - val_accuracy: 0.8478\n",
            "Epoch 136/200\n",
            "1407/1407 [==============================] - 24s 17ms/step - loss: 0.0102 - accuracy: 0.9966 - val_loss: 1.2075 - val_accuracy: 0.8430\n",
            "Epoch 137/200\n",
            "1407/1407 [==============================] - 24s 17ms/step - loss: 0.0154 - accuracy: 0.9955 - val_loss: 1.2180 - val_accuracy: 0.8388\n",
            "Epoch 138/200\n",
            "1407/1407 [==============================] - 25s 17ms/step - loss: 0.0121 - accuracy: 0.9959 - val_loss: 1.2640 - val_accuracy: 0.8430\n",
            "Epoch 139/200\n",
            "1407/1407 [==============================] - 24s 17ms/step - loss: 0.0133 - accuracy: 0.9959 - val_loss: 1.1641 - val_accuracy: 0.8460\n",
            "Epoch 140/200\n",
            "1407/1407 [==============================] - 25s 17ms/step - loss: 0.0127 - accuracy: 0.9956 - val_loss: 1.2638 - val_accuracy: 0.8432\n",
            "Epoch 141/200\n",
            "1407/1407 [==============================] - 24s 17ms/step - loss: 0.0095 - accuracy: 0.9967 - val_loss: 1.2708 - val_accuracy: 0.8396\n",
            "Epoch 142/200\n",
            "1407/1407 [==============================] - 24s 17ms/step - loss: 0.0137 - accuracy: 0.9956 - val_loss: 1.4950 - val_accuracy: 0.8334\n",
            "Epoch 143/200\n",
            "1407/1407 [==============================] - 24s 17ms/step - loss: 0.0112 - accuracy: 0.9966 - val_loss: 1.2415 - val_accuracy: 0.8476\n",
            "Epoch 144/200\n",
            "1407/1407 [==============================] - 25s 18ms/step - loss: 0.0114 - accuracy: 0.9961 - val_loss: 1.2810 - val_accuracy: 0.8398\n",
            "Epoch 145/200\n",
            "1407/1407 [==============================] - 24s 17ms/step - loss: 0.0107 - accuracy: 0.9963 - val_loss: 1.2660 - val_accuracy: 0.8440\n",
            "Epoch 146/200\n",
            "1407/1407 [==============================] - 24s 17ms/step - loss: 0.0121 - accuracy: 0.9960 - val_loss: 1.2053 - val_accuracy: 0.8488\n",
            "Epoch 147/200\n",
            "1407/1407 [==============================] - 25s 17ms/step - loss: 0.0129 - accuracy: 0.9955 - val_loss: 1.2104 - val_accuracy: 0.8450\n",
            "Epoch 148/200\n",
            "1407/1407 [==============================] - 24s 17ms/step - loss: 0.0090 - accuracy: 0.9968 - val_loss: 1.4696 - val_accuracy: 0.8388\n",
            "Epoch 149/200\n",
            "1407/1407 [==============================] - 24s 17ms/step - loss: 0.0135 - accuracy: 0.9957 - val_loss: 1.3231 - val_accuracy: 0.8438\n",
            "Epoch 150/200\n",
            "1407/1407 [==============================] - 25s 17ms/step - loss: 0.0094 - accuracy: 0.9968 - val_loss: 1.3071 - val_accuracy: 0.8442\n",
            "Epoch 151/200\n",
            "1407/1407 [==============================] - 24s 17ms/step - loss: 0.0124 - accuracy: 0.9960 - val_loss: 1.3268 - val_accuracy: 0.8464\n",
            "Epoch 152/200\n",
            "1407/1407 [==============================] - 24s 17ms/step - loss: 0.0123 - accuracy: 0.9958 - val_loss: 1.2798 - val_accuracy: 0.8424\n",
            "Epoch 153/200\n",
            "1405/1407 [============================>.] - ETA: 0s - loss: 0.0127 - accuracy: 0.9961"
          ]
        },
        {
          "name": "stderr",
          "output_type": "stream",
          "text": [
            "WARNING:absl:Found untraced functions such as _jit_compiled_convolution_op, _jit_compiled_convolution_op, _jit_compiled_convolution_op, _jit_compiled_convolution_op, _jit_compiled_convolution_op while saving (showing 5 of 28). These functions will not be directly callable after loading.\n"
          ]
        },
        {
          "name": "stdout",
          "output_type": "stream",
          "text": [
            "INFO:tensorflow:Assets written to: ./drive/MyDrive/colab_data/best_model/assets\n"
          ]
        },
        {
          "name": "stderr",
          "output_type": "stream",
          "text": [
            "INFO:tensorflow:Assets written to: ./drive/MyDrive/colab_data/best_model/assets\n"
          ]
        },
        {
          "name": "stdout",
          "output_type": "stream",
          "text": [
            "1407/1407 [==============================] - 34s 24ms/step - loss: 0.0127 - accuracy: 0.9961 - val_loss: 1.2049 - val_accuracy: 0.8530\n",
            "Epoch 154/200\n",
            "1405/1407 [============================>.] - ETA: 0s - loss: 0.0062 - accuracy: 0.9980"
          ]
        },
        {
          "name": "stderr",
          "output_type": "stream",
          "text": [
            "WARNING:absl:Found untraced functions such as _jit_compiled_convolution_op, _jit_compiled_convolution_op, _jit_compiled_convolution_op, _jit_compiled_convolution_op, _jit_compiled_convolution_op while saving (showing 5 of 28). These functions will not be directly callable after loading.\n"
          ]
        },
        {
          "name": "stdout",
          "output_type": "stream",
          "text": [
            "INFO:tensorflow:Assets written to: ./drive/MyDrive/colab_data/best_model/assets\n"
          ]
        },
        {
          "name": "stderr",
          "output_type": "stream",
          "text": [
            "INFO:tensorflow:Assets written to: ./drive/MyDrive/colab_data/best_model/assets\n"
          ]
        },
        {
          "name": "stdout",
          "output_type": "stream",
          "text": [
            "1407/1407 [==============================] - 34s 24ms/step - loss: 0.0062 - accuracy: 0.9980 - val_loss: 1.2006 - val_accuracy: 0.8534\n",
            "Epoch 155/200\n",
            "1407/1407 [==============================] - 25s 18ms/step - loss: 0.0115 - accuracy: 0.9962 - val_loss: 1.3910 - val_accuracy: 0.8418\n",
            "Epoch 156/200\n",
            "1407/1407 [==============================] - 25s 18ms/step - loss: 0.0131 - accuracy: 0.9961 - val_loss: 1.2536 - val_accuracy: 0.8492\n",
            "Epoch 157/200\n",
            "1407/1407 [==============================] - 25s 18ms/step - loss: 0.0146 - accuracy: 0.9953 - val_loss: 1.3326 - val_accuracy: 0.8452\n",
            "Epoch 158/200\n",
            "1407/1407 [==============================] - 25s 18ms/step - loss: 0.0118 - accuracy: 0.9960 - val_loss: 1.2225 - val_accuracy: 0.8474\n",
            "Epoch 159/200\n",
            "1407/1407 [==============================] - 25s 18ms/step - loss: 0.0093 - accuracy: 0.9967 - val_loss: 1.2803 - val_accuracy: 0.8442\n",
            "Epoch 160/200\n",
            "1407/1407 [==============================] - 25s 18ms/step - loss: 0.0120 - accuracy: 0.9962 - val_loss: 1.3162 - val_accuracy: 0.8446\n",
            "Epoch 161/200\n",
            "1407/1407 [==============================] - 25s 18ms/step - loss: 0.0106 - accuracy: 0.9966 - val_loss: 1.2186 - val_accuracy: 0.8502\n",
            "Epoch 162/200\n",
            "1407/1407 [==============================] - 25s 18ms/step - loss: 0.0107 - accuracy: 0.9968 - val_loss: 1.3882 - val_accuracy: 0.8366\n",
            "Epoch 163/200\n",
            "1407/1407 [==============================] - 25s 18ms/step - loss: 0.0127 - accuracy: 0.9959 - val_loss: 1.2830 - val_accuracy: 0.8460\n",
            "Epoch 164/200\n",
            "1407/1407 [==============================] - 25s 18ms/step - loss: 0.0109 - accuracy: 0.9966 - val_loss: 1.3078 - val_accuracy: 0.8452\n",
            "Epoch 165/200\n",
            "1407/1407 [==============================] - 25s 18ms/step - loss: 0.0136 - accuracy: 0.9959 - val_loss: 1.3458 - val_accuracy: 0.8412\n",
            "Epoch 166/200\n",
            "1407/1407 [==============================] - 25s 18ms/step - loss: 0.0130 - accuracy: 0.9956 - val_loss: 1.2910 - val_accuracy: 0.8470\n",
            "Epoch 167/200\n",
            "1407/1407 [==============================] - 25s 18ms/step - loss: 0.0094 - accuracy: 0.9968 - val_loss: 1.1969 - val_accuracy: 0.8452\n",
            "Epoch 168/200\n",
            "1407/1407 [==============================] - 25s 18ms/step - loss: 0.0098 - accuracy: 0.9968 - val_loss: 1.3402 - val_accuracy: 0.8400\n",
            "Epoch 169/200\n",
            "1407/1407 [==============================] - 25s 18ms/step - loss: 0.0129 - accuracy: 0.9961 - val_loss: 1.1907 - val_accuracy: 0.8516\n",
            "Epoch 170/200\n",
            "1407/1407 [==============================] - 25s 18ms/step - loss: 0.0103 - accuracy: 0.9968 - val_loss: 1.3556 - val_accuracy: 0.8442\n",
            "Epoch 171/200\n",
            "1407/1407 [==============================] - 25s 17ms/step - loss: 0.0106 - accuracy: 0.9967 - val_loss: 1.2499 - val_accuracy: 0.8484\n",
            "Epoch 172/200\n",
            "1407/1407 [==============================] - 25s 18ms/step - loss: 0.0114 - accuracy: 0.9962 - val_loss: 1.3394 - val_accuracy: 0.8452\n",
            "Epoch 173/200\n",
            "1407/1407 [==============================] - 25s 18ms/step - loss: 0.0120 - accuracy: 0.9958 - val_loss: 1.3600 - val_accuracy: 0.8418\n",
            "Epoch 174/200\n",
            "1407/1407 [==============================] - 25s 18ms/step - loss: 0.0088 - accuracy: 0.9970 - val_loss: 1.3143 - val_accuracy: 0.8472\n",
            "Epoch 175/200\n",
            "1407/1407 [==============================] - 25s 17ms/step - loss: 0.0091 - accuracy: 0.9972 - val_loss: 1.5128 - val_accuracy: 0.8334\n",
            "Epoch 176/200\n",
            "1407/1407 [==============================] - 25s 18ms/step - loss: 0.0118 - accuracy: 0.9963 - val_loss: 1.2918 - val_accuracy: 0.8470\n",
            "Epoch 177/200\n",
            "1407/1407 [==============================] - 25s 17ms/step - loss: 0.0119 - accuracy: 0.9961 - val_loss: 1.2635 - val_accuracy: 0.8482\n",
            "Epoch 178/200\n",
            "1407/1407 [==============================] - 25s 18ms/step - loss: 0.0100 - accuracy: 0.9968 - val_loss: 1.2710 - val_accuracy: 0.8462\n",
            "Epoch 179/200\n",
            "1407/1407 [==============================] - 25s 18ms/step - loss: 0.0101 - accuracy: 0.9972 - val_loss: 1.4189 - val_accuracy: 0.8436\n",
            "Epoch 180/200\n",
            "1407/1407 [==============================] - 25s 18ms/step - loss: 0.0107 - accuracy: 0.9965 - val_loss: 1.3345 - val_accuracy: 0.8442\n",
            "Epoch 181/200\n",
            "1407/1407 [==============================] - 25s 17ms/step - loss: 0.0096 - accuracy: 0.9966 - val_loss: 1.3285 - val_accuracy: 0.8460\n",
            "Epoch 182/200\n",
            "1407/1407 [==============================] - 25s 18ms/step - loss: 0.0114 - accuracy: 0.9961 - val_loss: 1.4256 - val_accuracy: 0.8448\n",
            "Epoch 183/200\n",
            "1407/1407 [==============================] - 25s 18ms/step - loss: 0.0107 - accuracy: 0.9968 - val_loss: 1.3546 - val_accuracy: 0.8456\n",
            "Epoch 184/200\n",
            "1407/1407 [==============================] - 25s 18ms/step - loss: 0.0118 - accuracy: 0.9964 - val_loss: 1.3483 - val_accuracy: 0.8440\n",
            "Epoch 185/200\n",
            "1406/1407 [============================>.] - ETA: 0s - loss: 0.0095 - accuracy: 0.9969"
          ]
        },
        {
          "name": "stderr",
          "output_type": "stream",
          "text": [
            "WARNING:absl:Found untraced functions such as _jit_compiled_convolution_op, _jit_compiled_convolution_op, _jit_compiled_convolution_op, _jit_compiled_convolution_op, _jit_compiled_convolution_op while saving (showing 5 of 28). These functions will not be directly callable after loading.\n"
          ]
        },
        {
          "name": "stdout",
          "output_type": "stream",
          "text": [
            "INFO:tensorflow:Assets written to: ./drive/MyDrive/colab_data/best_model/assets\n"
          ]
        },
        {
          "name": "stderr",
          "output_type": "stream",
          "text": [
            "INFO:tensorflow:Assets written to: ./drive/MyDrive/colab_data/best_model/assets\n"
          ]
        },
        {
          "name": "stdout",
          "output_type": "stream",
          "text": [
            "1407/1407 [==============================] - 34s 24ms/step - loss: 0.0095 - accuracy: 0.9969 - val_loss: 1.2677 - val_accuracy: 0.8544\n",
            "Epoch 186/200\n",
            "1407/1407 [==============================] - 25s 18ms/step - loss: 0.0088 - accuracy: 0.9975 - val_loss: 1.2579 - val_accuracy: 0.8462\n",
            "Epoch 187/200\n",
            "1407/1407 [==============================] - 25s 18ms/step - loss: 0.0108 - accuracy: 0.9963 - val_loss: 1.2739 - val_accuracy: 0.8470\n",
            "Epoch 188/200\n",
            "1407/1407 [==============================] - 25s 18ms/step - loss: 0.0119 - accuracy: 0.9964 - val_loss: 1.2913 - val_accuracy: 0.8482\n",
            "Epoch 189/200\n",
            "1407/1407 [==============================] - 25s 18ms/step - loss: 0.0112 - accuracy: 0.9962 - val_loss: 1.2930 - val_accuracy: 0.8446\n",
            "Epoch 190/200\n",
            "1407/1407 [==============================] - 25s 18ms/step - loss: 0.0096 - accuracy: 0.9970 - val_loss: 1.3261 - val_accuracy: 0.8474\n",
            "Epoch 191/200\n",
            "1407/1407 [==============================] - 25s 18ms/step - loss: 0.0097 - accuracy: 0.9970 - val_loss: 1.3127 - val_accuracy: 0.8446\n",
            "Epoch 192/200\n",
            "1407/1407 [==============================] - 25s 18ms/step - loss: 0.0100 - accuracy: 0.9974 - val_loss: 1.3531 - val_accuracy: 0.8488\n",
            "Epoch 193/200\n",
            "1407/1407 [==============================] - 25s 18ms/step - loss: 0.0099 - accuracy: 0.9972 - val_loss: 1.2362 - val_accuracy: 0.8492\n",
            "Epoch 194/200\n",
            "1407/1407 [==============================] - 25s 18ms/step - loss: 0.0099 - accuracy: 0.9966 - val_loss: 1.3197 - val_accuracy: 0.8484\n",
            "Epoch 195/200\n",
            "1407/1407 [==============================] - 25s 18ms/step - loss: 0.0085 - accuracy: 0.9974 - val_loss: 1.3095 - val_accuracy: 0.8486\n",
            "Epoch 196/200\n",
            "1407/1407 [==============================] - 25s 18ms/step - loss: 0.0104 - accuracy: 0.9967 - val_loss: 1.4728 - val_accuracy: 0.8374\n",
            "Epoch 197/200\n",
            "1407/1407 [==============================] - 25s 18ms/step - loss: 0.0088 - accuracy: 0.9970 - val_loss: 1.4272 - val_accuracy: 0.8500\n",
            "Epoch 198/200\n",
            "1407/1407 [==============================] - 25s 18ms/step - loss: 0.0080 - accuracy: 0.9975 - val_loss: 1.3284 - val_accuracy: 0.8450\n",
            "Epoch 199/200\n",
            "1407/1407 [==============================] - 25s 18ms/step - loss: 0.0104 - accuracy: 0.9970 - val_loss: 1.2936 - val_accuracy: 0.8476\n",
            "Epoch 200/200\n",
            "1407/1407 [==============================] - 25s 18ms/step - loss: 0.0104 - accuracy: 0.9966 - val_loss: 1.3572 - val_accuracy: 0.8492\n",
            "Best Validation Accuracy:0.8544\n"
          ]
        }
      ],
      "source": [
        "# from keras.callbacks import EarlyStopping\n",
        "# early_stopping = EarlyStopping(monitor = 'val_loss', min_delta = 0, patience = 30, mode = 'auto')\n",
        "from keras.callbacks import ModelCheckpoint\n",
        "\n",
        "save_dir = './drive/MyDrive/colab_data/'\n",
        "checkpoint = ModelCheckpoint(save_dir+\"best_model\", monitor=\"val_accuracy\", save_best_only=True, mode='auto')\n",
        "model.compile(optimizer='adam',\n",
        "              loss=tf.keras.losses.CategoricalCrossentropy(from_logits=True),\n",
        "              metrics=['accuracy'])\n",
        "\n",
        "hist = model.fit(\n",
        "          x_train,\n",
        "          y_train,\n",
        "          epochs=200,\n",
        "          validation_split=0.1,\n",
        "          callbacks = [checkpoint])\n",
        "\n",
        "# Best Validation Accuracy\n",
        "print(\"Best Validation Accuracy:{:.4f}\".format(max(hist.history['val_accuracy'])))"
      ]
    },
    {
      "cell_type": "code",
      "execution_count": 7,
      "metadata": {
        "colab": {
          "base_uri": "https://localhost:8080/",
          "height": 450
        },
        "id": "MH0o1IdToE3z",
        "outputId": "3b0cc564-8eb8-411f-918e-ac29fa35b5a9"
      },
      "outputs": [
        {
          "data": {
            "image/png": "[encoded data removed]",
            "text/plain": [
              "<Figure size 640x480 with 2 Axes>"
            ]
          },
          "metadata": {},
          "output_type": "display_data"
        }
      ],
      "source": [
        "#plot training\n",
        "# %matplotlib inline\n",
        "import matplotlib.pyplot as plt\n",
        "\n",
        "fig, loss_ax = plt.subplots()\n",
        "acc_ax = loss_ax.twinx()\n",
        "\n",
        "loss_ax.plot(hist.history['loss'], 'y', label = 'train loss')\n",
        "loss_ax.plot(hist.history['val_loss'], 'r', label = 'val loss')\n",
        "acc_ax.plot(hist.history['accuracy'], 'b', label = 'train accuracy')\n",
        "acc_ax.plot(hist.history['val_accuracy'], 'g', label = 'val accuracy')\n",
        "\n",
        "loss_ax.set_xlabel('epoch')\n",
        "loss_ax.set_ylabel('loss')\n",
        "acc_ax.set_xlabel('accuracy')\n",
        "\n",
        "loss_ax.legend(loc = 'upper left')\n",
        "acc_ax.legend(loc = 'lower left')\n",
        "\n",
        "plt.show()"
      ]
    },
    {
      "cell_type": "code",
      "execution_count": 8,
      "metadata": {},
      "outputs": [],
      "source": [
        "load_dir = './drive/MyDrive/colab_data/'\n",
        "model_best = keras.models.load_model(load_dir+'best_model')"
      ]
    },
    {
      "cell_type": "code",
      "execution_count": 9,
      "metadata": {
        "id": "pkXdUL3yco0M"
      },
      "outputs": [
        {
          "name": "stdout",
          "output_type": "stream",
          "text": [
            "WARNING:tensorflow:From /home/silverhj/anaconda3/envs/embedded-2023_colab/lib/python3.10/site-packages/tensorflow/python/autograph/pyct/static_analysis/liveness.py:83: Analyzer.lamba_check (from tensorflow.python.autograph.pyct.static_analysis.liveness) is deprecated and will be removed after 2023-09-23.\n",
            "Instructions for updating:\n",
            "Lambda fuctions will be no more assumed to be used in the statement where they are used, or at least in the same block. https://github.com/tensorflow/tensorflow/issues/56089\n"
          ]
        },
        {
          "name": "stderr",
          "output_type": "stream",
          "text": [
            "WARNING:tensorflow:From /home/silverhj/anaconda3/envs/embedded-2023_colab/lib/python3.10/site-packages/tensorflow/python/autograph/pyct/static_analysis/liveness.py:83: Analyzer.lamba_check (from tensorflow.python.autograph.pyct.static_analysis.liveness) is deprecated and will be removed after 2023-09-23.\n",
            "Instructions for updating:\n",
            "Lambda fuctions will be no more assumed to be used in the statement where they are used, or at least in the same block. https://github.com/tensorflow/tensorflow/issues/56089\n"
          ]
        },
        {
          "name": "stdout",
          "output_type": "stream",
          "text": [
            "Epoch 1/20\n",
            "   5/1407 [..............................] - ETA: 41s - loss: 0.0024 - accuracy: 1.0000    WARNING:tensorflow:Callback method `on_train_batch_end` is slow compared to the batch time (batch time: 0.0272s vs `on_train_batch_end` time: 0.1102s). Check your callbacks.\n"
          ]
        },
        {
          "name": "stderr",
          "output_type": "stream",
          "text": [
            "WARNING:tensorflow:Callback method `on_train_batch_end` is slow compared to the batch time (batch time: 0.0272s vs `on_train_batch_end` time: 0.1102s). Check your callbacks.\n"
          ]
        },
        {
          "name": "stdout",
          "output_type": "stream",
          "text": [
            "1407/1407 [==============================] - ETA: 0s - loss: 0.0188 - accuracy: 0.9942"
          ]
        },
        {
          "name": "stderr",
          "output_type": "stream",
          "text": [
            "WARNING:absl:Found untraced functions such as conv2d_1_layer_call_fn, conv2d_1_layer_call_and_return_conditional_losses, _jit_compiled_convolution_op, re_lu_1_layer_call_fn, re_lu_1_layer_call_and_return_conditional_losses while saving (showing 5 of 156). These functions will not be directly callable after loading.\n"
          ]
        },
        {
          "name": "stdout",
          "output_type": "stream",
          "text": [
            "INFO:tensorflow:Assets written to: ./drive/MyDrive/colab_data/pruned_model/assets\n"
          ]
        },
        {
          "name": "stderr",
          "output_type": "stream",
          "text": [
            "INFO:tensorflow:Assets written to: ./drive/MyDrive/colab_data/pruned_model/assets\n"
          ]
        },
        {
          "name": "stdout",
          "output_type": "stream",
          "text": [
            "1407/1407 [==============================] - 143s 55ms/step - loss: 0.0188 - accuracy: 0.9942 - val_loss: 1.2619 - val_accuracy: 0.8436\n",
            "Epoch 2/20\n",
            "1407/1407 [==============================] - ETA: 0s - loss: 0.0131 - accuracy: 0.9954"
          ]
        },
        {
          "name": "stderr",
          "output_type": "stream",
          "text": [
            "WARNING:absl:Found untraced functions such as conv2d_1_layer_call_fn, conv2d_1_layer_call_and_return_conditional_losses, _jit_compiled_convolution_op, re_lu_1_layer_call_fn, re_lu_1_layer_call_and_return_conditional_losses while saving (showing 5 of 156). These functions will not be directly callable after loading.\n"
          ]
        },
        {
          "name": "stdout",
          "output_type": "stream",
          "text": [
            "INFO:tensorflow:Assets written to: ./drive/MyDrive/colab_data/pruned_model/assets\n"
          ]
        },
        {
          "name": "stderr",
          "output_type": "stream",
          "text": [
            "INFO:tensorflow:Assets written to: ./drive/MyDrive/colab_data/pruned_model/assets\n"
          ]
        },
        {
          "name": "stdout",
          "output_type": "stream",
          "text": [
            "1407/1407 [==============================] - 77s 55ms/step - loss: 0.0131 - accuracy: 0.9954 - val_loss: 1.3334 - val_accuracy: 0.8326\n",
            "Epoch 3/20\n",
            "1407/1407 [==============================] - ETA: 0s - loss: 0.0171 - accuracy: 0.9946"
          ]
        },
        {
          "name": "stderr",
          "output_type": "stream",
          "text": [
            "WARNING:absl:Found untraced functions such as conv2d_1_layer_call_fn, conv2d_1_layer_call_and_return_conditional_losses, _jit_compiled_convolution_op, re_lu_1_layer_call_fn, re_lu_1_layer_call_and_return_conditional_losses while saving (showing 5 of 156). These functions will not be directly callable after loading.\n"
          ]
        },
        {
          "name": "stdout",
          "output_type": "stream",
          "text": [
            "INFO:tensorflow:Assets written to: ./drive/MyDrive/colab_data/pruned_model/assets\n"
          ]
        },
        {
          "name": "stderr",
          "output_type": "stream",
          "text": [
            "INFO:tensorflow:Assets written to: ./drive/MyDrive/colab_data/pruned_model/assets\n"
          ]
        },
        {
          "name": "stdout",
          "output_type": "stream",
          "text": [
            "1407/1407 [==============================] - 77s 55ms/step - loss: 0.0171 - accuracy: 0.9946 - val_loss: 1.2694 - val_accuracy: 0.8378\n",
            "Epoch 4/20\n",
            "1407/1407 [==============================] - ETA: 0s - loss: 0.0166 - accuracy: 0.9945"
          ]
        },
        {
          "name": "stderr",
          "output_type": "stream",
          "text": [
            "WARNING:absl:Found untraced functions such as conv2d_1_layer_call_fn, conv2d_1_layer_call_and_return_conditional_losses, _jit_compiled_convolution_op, re_lu_1_layer_call_fn, re_lu_1_layer_call_and_return_conditional_losses while saving (showing 5 of 156). These functions will not be directly callable after loading.\n"
          ]
        },
        {
          "name": "stdout",
          "output_type": "stream",
          "text": [
            "INFO:tensorflow:Assets written to: ./drive/MyDrive/colab_data/pruned_model/assets\n"
          ]
        },
        {
          "name": "stderr",
          "output_type": "stream",
          "text": [
            "INFO:tensorflow:Assets written to: ./drive/MyDrive/colab_data/pruned_model/assets\n"
          ]
        },
        {
          "name": "stdout",
          "output_type": "stream",
          "text": [
            "1407/1407 [==============================] - 77s 55ms/step - loss: 0.0166 - accuracy: 0.9945 - val_loss: 1.1578 - val_accuracy: 0.8418\n",
            "Epoch 5/20\n",
            "1407/1407 [==============================] - ETA: 0s - loss: 0.0184 - accuracy: 0.9938"
          ]
        },
        {
          "name": "stderr",
          "output_type": "stream",
          "text": [
            "WARNING:absl:Found untraced functions such as conv2d_1_layer_call_fn, conv2d_1_layer_call_and_return_conditional_losses, _jit_compiled_convolution_op, re_lu_1_layer_call_fn, re_lu_1_layer_call_and_return_conditional_losses while saving (showing 5 of 156). These functions will not be directly callable after loading.\n"
          ]
        },
        {
          "name": "stdout",
          "output_type": "stream",
          "text": [
            "INFO:tensorflow:Assets written to: ./drive/MyDrive/colab_data/pruned_model/assets\n"
          ]
        },
        {
          "name": "stderr",
          "output_type": "stream",
          "text": [
            "INFO:tensorflow:Assets written to: ./drive/MyDrive/colab_data/pruned_model/assets\n"
          ]
        },
        {
          "name": "stdout",
          "output_type": "stream",
          "text": [
            "1407/1407 [==============================] - 78s 55ms/step - loss: 0.0184 - accuracy: 0.9938 - val_loss: 1.2025 - val_accuracy: 0.8382\n",
            "Epoch 6/20\n",
            "1407/1407 [==============================] - ETA: 0s - loss: 0.0195 - accuracy: 0.9936"
          ]
        },
        {
          "name": "stderr",
          "output_type": "stream",
          "text": [
            "WARNING:absl:Found untraced functions such as conv2d_1_layer_call_fn, conv2d_1_layer_call_and_return_conditional_losses, _jit_compiled_convolution_op, re_lu_1_layer_call_fn, re_lu_1_layer_call_and_return_conditional_losses while saving (showing 5 of 156). These functions will not be directly callable after loading.\n"
          ]
        },
        {
          "name": "stdout",
          "output_type": "stream",
          "text": [
            "INFO:tensorflow:Assets written to: ./drive/MyDrive/colab_data/pruned_model/assets\n"
          ]
        },
        {
          "name": "stderr",
          "output_type": "stream",
          "text": [
            "INFO:tensorflow:Assets written to: ./drive/MyDrive/colab_data/pruned_model/assets\n"
          ]
        },
        {
          "name": "stdout",
          "output_type": "stream",
          "text": [
            "1407/1407 [==============================] - 77s 55ms/step - loss: 0.0195 - accuracy: 0.9936 - val_loss: 1.1707 - val_accuracy: 0.8398\n",
            "Epoch 7/20\n",
            "1407/1407 [==============================] - ETA: 0s - loss: 0.0210 - accuracy: 0.9930"
          ]
        },
        {
          "name": "stderr",
          "output_type": "stream",
          "text": [
            "WARNING:absl:Found untraced functions such as conv2d_1_layer_call_fn, conv2d_1_layer_call_and_return_conditional_losses, _jit_compiled_convolution_op, re_lu_1_layer_call_fn, re_lu_1_layer_call_and_return_conditional_losses while saving (showing 5 of 156). These functions will not be directly callable after loading.\n"
          ]
        },
        {
          "name": "stdout",
          "output_type": "stream",
          "text": [
            "INFO:tensorflow:Assets written to: ./drive/MyDrive/colab_data/pruned_model/assets\n"
          ]
        },
        {
          "name": "stderr",
          "output_type": "stream",
          "text": [
            "INFO:tensorflow:Assets written to: ./drive/MyDrive/colab_data/pruned_model/assets\n"
          ]
        },
        {
          "name": "stdout",
          "output_type": "stream",
          "text": [
            "1407/1407 [==============================] - 78s 56ms/step - loss: 0.0210 - accuracy: 0.9930 - val_loss: 1.1401 - val_accuracy: 0.8382\n",
            "Epoch 8/20\n",
            "1407/1407 [==============================] - ETA: 0s - loss: 0.0213 - accuracy: 0.9931"
          ]
        },
        {
          "name": "stderr",
          "output_type": "stream",
          "text": [
            "WARNING:absl:Found untraced functions such as conv2d_1_layer_call_fn, conv2d_1_layer_call_and_return_conditional_losses, _jit_compiled_convolution_op, re_lu_1_layer_call_fn, re_lu_1_layer_call_and_return_conditional_losses while saving (showing 5 of 156). These functions will not be directly callable after loading.\n"
          ]
        },
        {
          "name": "stdout",
          "output_type": "stream",
          "text": [
            "INFO:tensorflow:Assets written to: ./drive/MyDrive/colab_data/pruned_model/assets\n"
          ]
        },
        {
          "name": "stderr",
          "output_type": "stream",
          "text": [
            "INFO:tensorflow:Assets written to: ./drive/MyDrive/colab_data/pruned_model/assets\n"
          ]
        },
        {
          "name": "stdout",
          "output_type": "stream",
          "text": [
            "1407/1407 [==============================] - 78s 55ms/step - loss: 0.0213 - accuracy: 0.9931 - val_loss: 1.1979 - val_accuracy: 0.8316\n",
            "Epoch 9/20\n",
            "1407/1407 [==============================] - ETA: 0s - loss: 0.0220 - accuracy: 0.9928"
          ]
        },
        {
          "name": "stderr",
          "output_type": "stream",
          "text": [
            "WARNING:absl:Found untraced functions such as conv2d_1_layer_call_fn, conv2d_1_layer_call_and_return_conditional_losses, _jit_compiled_convolution_op, re_lu_1_layer_call_fn, re_lu_1_layer_call_and_return_conditional_losses while saving (showing 5 of 156). These functions will not be directly callable after loading.\n"
          ]
        },
        {
          "name": "stdout",
          "output_type": "stream",
          "text": [
            "INFO:tensorflow:Assets written to: ./drive/MyDrive/colab_data/pruned_model/assets\n"
          ]
        },
        {
          "name": "stderr",
          "output_type": "stream",
          "text": [
            "INFO:tensorflow:Assets written to: ./drive/MyDrive/colab_data/pruned_model/assets\n"
          ]
        },
        {
          "name": "stdout",
          "output_type": "stream",
          "text": [
            "1407/1407 [==============================] - 78s 55ms/step - loss: 0.0220 - accuracy: 0.9928 - val_loss: 1.1362 - val_accuracy: 0.8386\n",
            "Epoch 10/20\n",
            "1407/1407 [==============================] - ETA: 0s - loss: 0.0211 - accuracy: 0.9926"
          ]
        },
        {
          "name": "stderr",
          "output_type": "stream",
          "text": [
            "WARNING:absl:Found untraced functions such as conv2d_1_layer_call_fn, conv2d_1_layer_call_and_return_conditional_losses, _jit_compiled_convolution_op, re_lu_1_layer_call_fn, re_lu_1_layer_call_and_return_conditional_losses while saving (showing 5 of 156). These functions will not be directly callable after loading.\n"
          ]
        },
        {
          "name": "stdout",
          "output_type": "stream",
          "text": [
            "INFO:tensorflow:Assets written to: ./drive/MyDrive/colab_data/pruned_model/assets\n"
          ]
        },
        {
          "name": "stderr",
          "output_type": "stream",
          "text": [
            "INFO:tensorflow:Assets written to: ./drive/MyDrive/colab_data/pruned_model/assets\n"
          ]
        },
        {
          "name": "stdout",
          "output_type": "stream",
          "text": [
            "1407/1407 [==============================] - 78s 55ms/step - loss: 0.0211 - accuracy: 0.9926 - val_loss: 1.1452 - val_accuracy: 0.8364\n",
            "Epoch 11/20\n",
            "1407/1407 [==============================] - ETA: 0s - loss: 0.0205 - accuracy: 0.9928"
          ]
        },
        {
          "name": "stderr",
          "output_type": "stream",
          "text": [
            "WARNING:absl:Found untraced functions such as conv2d_1_layer_call_fn, conv2d_1_layer_call_and_return_conditional_losses, _jit_compiled_convolution_op, re_lu_1_layer_call_fn, re_lu_1_layer_call_and_return_conditional_losses while saving (showing 5 of 156). These functions will not be directly callable after loading.\n"
          ]
        },
        {
          "name": "stdout",
          "output_type": "stream",
          "text": [
            "INFO:tensorflow:Assets written to: ./drive/MyDrive/colab_data/pruned_model/assets\n"
          ]
        },
        {
          "name": "stderr",
          "output_type": "stream",
          "text": [
            "INFO:tensorflow:Assets written to: ./drive/MyDrive/colab_data/pruned_model/assets\n"
          ]
        },
        {
          "name": "stdout",
          "output_type": "stream",
          "text": [
            "1407/1407 [==============================] - 79s 56ms/step - loss: 0.0205 - accuracy: 0.9928 - val_loss: 1.1755 - val_accuracy: 0.8332\n",
            "Epoch 12/20\n",
            "1407/1407 [==============================] - ETA: 0s - loss: 0.0189 - accuracy: 0.9936"
          ]
        },
        {
          "name": "stderr",
          "output_type": "stream",
          "text": [
            "WARNING:absl:Found untraced functions such as conv2d_1_layer_call_fn, conv2d_1_layer_call_and_return_conditional_losses, _jit_compiled_convolution_op, re_lu_1_layer_call_fn, re_lu_1_layer_call_and_return_conditional_losses while saving (showing 5 of 156). These functions will not be directly callable after loading.\n"
          ]
        },
        {
          "name": "stdout",
          "output_type": "stream",
          "text": [
            "INFO:tensorflow:Assets written to: ./drive/MyDrive/colab_data/pruned_model/assets\n"
          ]
        },
        {
          "name": "stderr",
          "output_type": "stream",
          "text": [
            "INFO:tensorflow:Assets written to: ./drive/MyDrive/colab_data/pruned_model/assets\n"
          ]
        },
        {
          "name": "stdout",
          "output_type": "stream",
          "text": [
            "1407/1407 [==============================] - 78s 55ms/step - loss: 0.0189 - accuracy: 0.9936 - val_loss: 1.1863 - val_accuracy: 0.8348\n",
            "Epoch 13/20\n",
            "1407/1407 [==============================] - ETA: 0s - loss: 0.0176 - accuracy: 0.9940"
          ]
        },
        {
          "name": "stderr",
          "output_type": "stream",
          "text": [
            "WARNING:absl:Found untraced functions such as conv2d_1_layer_call_fn, conv2d_1_layer_call_and_return_conditional_losses, _jit_compiled_convolution_op, re_lu_1_layer_call_fn, re_lu_1_layer_call_and_return_conditional_losses while saving (showing 5 of 156). These functions will not be directly callable after loading.\n"
          ]
        },
        {
          "name": "stdout",
          "output_type": "stream",
          "text": [
            "INFO:tensorflow:Assets written to: ./drive/MyDrive/colab_data/pruned_model/assets\n"
          ]
        },
        {
          "name": "stderr",
          "output_type": "stream",
          "text": [
            "INFO:tensorflow:Assets written to: ./drive/MyDrive/colab_data/pruned_model/assets\n"
          ]
        },
        {
          "name": "stdout",
          "output_type": "stream",
          "text": [
            "1407/1407 [==============================] - 78s 56ms/step - loss: 0.0176 - accuracy: 0.9940 - val_loss: 1.1812 - val_accuracy: 0.8376\n",
            "Epoch 14/20\n",
            "1407/1407 [==============================] - ETA: 0s - loss: 0.0189 - accuracy: 0.9938"
          ]
        },
        {
          "name": "stderr",
          "output_type": "stream",
          "text": [
            "WARNING:absl:Found untraced functions such as conv2d_1_layer_call_fn, conv2d_1_layer_call_and_return_conditional_losses, _jit_compiled_convolution_op, re_lu_1_layer_call_fn, re_lu_1_layer_call_and_return_conditional_losses while saving (showing 5 of 156). These functions will not be directly callable after loading.\n"
          ]
        },
        {
          "name": "stdout",
          "output_type": "stream",
          "text": [
            "INFO:tensorflow:Assets written to: ./drive/MyDrive/colab_data/pruned_model/assets\n"
          ]
        },
        {
          "name": "stderr",
          "output_type": "stream",
          "text": [
            "INFO:tensorflow:Assets written to: ./drive/MyDrive/colab_data/pruned_model/assets\n"
          ]
        },
        {
          "name": "stdout",
          "output_type": "stream",
          "text": [
            "1407/1407 [==============================] - 78s 55ms/step - loss: 0.0189 - accuracy: 0.9938 - val_loss: 1.1862 - val_accuracy: 0.8324\n",
            "Epoch 15/20\n",
            "1407/1407 [==============================] - ETA: 0s - loss: 0.0146 - accuracy: 0.9956"
          ]
        },
        {
          "name": "stderr",
          "output_type": "stream",
          "text": [
            "WARNING:absl:Found untraced functions such as conv2d_1_layer_call_fn, conv2d_1_layer_call_and_return_conditional_losses, _jit_compiled_convolution_op, re_lu_1_layer_call_fn, re_lu_1_layer_call_and_return_conditional_losses while saving (showing 5 of 156). These functions will not be directly callable after loading.\n"
          ]
        },
        {
          "name": "stdout",
          "output_type": "stream",
          "text": [
            "INFO:tensorflow:Assets written to: ./drive/MyDrive/colab_data/pruned_model/assets\n"
          ]
        },
        {
          "name": "stderr",
          "output_type": "stream",
          "text": [
            "INFO:tensorflow:Assets written to: ./drive/MyDrive/colab_data/pruned_model/assets\n"
          ]
        },
        {
          "name": "stdout",
          "output_type": "stream",
          "text": [
            "1407/1407 [==============================] - 77s 55ms/step - loss: 0.0146 - accuracy: 0.9956 - val_loss: 1.2073 - val_accuracy: 0.8350\n",
            "Epoch 16/20\n",
            "1407/1407 [==============================] - ETA: 0s - loss: 0.0137 - accuracy: 0.9954"
          ]
        },
        {
          "name": "stderr",
          "output_type": "stream",
          "text": [
            "WARNING:absl:Found untraced functions such as conv2d_1_layer_call_fn, conv2d_1_layer_call_and_return_conditional_losses, _jit_compiled_convolution_op, re_lu_1_layer_call_fn, re_lu_1_layer_call_and_return_conditional_losses while saving (showing 5 of 156). These functions will not be directly callable after loading.\n"
          ]
        },
        {
          "name": "stdout",
          "output_type": "stream",
          "text": [
            "INFO:tensorflow:Assets written to: ./drive/MyDrive/colab_data/pruned_model/assets\n"
          ]
        },
        {
          "name": "stderr",
          "output_type": "stream",
          "text": [
            "INFO:tensorflow:Assets written to: ./drive/MyDrive/colab_data/pruned_model/assets\n"
          ]
        },
        {
          "name": "stdout",
          "output_type": "stream",
          "text": [
            "1407/1407 [==============================] - 78s 56ms/step - loss: 0.0137 - accuracy: 0.9954 - val_loss: 1.2469 - val_accuracy: 0.8364\n",
            "Epoch 17/20\n",
            "1407/1407 [==============================] - ETA: 0s - loss: 0.0100 - accuracy: 0.9965"
          ]
        },
        {
          "name": "stderr",
          "output_type": "stream",
          "text": [
            "WARNING:absl:Found untraced functions such as conv2d_1_layer_call_fn, conv2d_1_layer_call_and_return_conditional_losses, _jit_compiled_convolution_op, re_lu_1_layer_call_fn, re_lu_1_layer_call_and_return_conditional_losses while saving (showing 5 of 156). These functions will not be directly callable after loading.\n"
          ]
        },
        {
          "name": "stdout",
          "output_type": "stream",
          "text": [
            "INFO:tensorflow:Assets written to: ./drive/MyDrive/colab_data/pruned_model/assets\n"
          ]
        },
        {
          "name": "stderr",
          "output_type": "stream",
          "text": [
            "INFO:tensorflow:Assets written to: ./drive/MyDrive/colab_data/pruned_model/assets\n"
          ]
        },
        {
          "name": "stdout",
          "output_type": "stream",
          "text": [
            "1407/1407 [==============================] - 77s 55ms/step - loss: 0.0100 - accuracy: 0.9965 - val_loss: 1.2272 - val_accuracy: 0.8402\n",
            "Epoch 18/20\n",
            "1407/1407 [==============================] - ETA: 0s - loss: 0.0122 - accuracy: 0.9957"
          ]
        },
        {
          "name": "stderr",
          "output_type": "stream",
          "text": [
            "WARNING:absl:Found untraced functions such as conv2d_1_layer_call_fn, conv2d_1_layer_call_and_return_conditional_losses, _jit_compiled_convolution_op, re_lu_1_layer_call_fn, re_lu_1_layer_call_and_return_conditional_losses while saving (showing 5 of 156). These functions will not be directly callable after loading.\n"
          ]
        },
        {
          "name": "stdout",
          "output_type": "stream",
          "text": [
            "INFO:tensorflow:Assets written to: ./drive/MyDrive/colab_data/pruned_model/assets\n"
          ]
        },
        {
          "name": "stderr",
          "output_type": "stream",
          "text": [
            "INFO:tensorflow:Assets written to: ./drive/MyDrive/colab_data/pruned_model/assets\n"
          ]
        },
        {
          "name": "stdout",
          "output_type": "stream",
          "text": [
            "1407/1407 [==============================] - 78s 56ms/step - loss: 0.0122 - accuracy: 0.9957 - val_loss: 1.2623 - val_accuracy: 0.8426\n",
            "Epoch 19/20\n",
            "1407/1407 [==============================] - ETA: 0s - loss: 0.0093 - accuracy: 0.9970"
          ]
        },
        {
          "name": "stderr",
          "output_type": "stream",
          "text": [
            "WARNING:absl:Found untraced functions such as conv2d_1_layer_call_fn, conv2d_1_layer_call_and_return_conditional_losses, _jit_compiled_convolution_op, re_lu_1_layer_call_fn, re_lu_1_layer_call_and_return_conditional_losses while saving (showing 5 of 156). These functions will not be directly callable after loading.\n"
          ]
        },
        {
          "name": "stdout",
          "output_type": "stream",
          "text": [
            "INFO:tensorflow:Assets written to: ./drive/MyDrive/colab_data/pruned_model/assets\n"
          ]
        },
        {
          "name": "stderr",
          "output_type": "stream",
          "text": [
            "INFO:tensorflow:Assets written to: ./drive/MyDrive/colab_data/pruned_model/assets\n"
          ]
        },
        {
          "name": "stdout",
          "output_type": "stream",
          "text": [
            "1407/1407 [==============================] - 78s 55ms/step - loss: 0.0093 - accuracy: 0.9970 - val_loss: 1.4814 - val_accuracy: 0.8230\n",
            "Epoch 20/20\n",
            "1407/1407 [==============================] - ETA: 0s - loss: 0.0101 - accuracy: 0.9965"
          ]
        },
        {
          "name": "stderr",
          "output_type": "stream",
          "text": [
            "WARNING:absl:Found untraced functions such as conv2d_1_layer_call_fn, conv2d_1_layer_call_and_return_conditional_losses, _jit_compiled_convolution_op, re_lu_1_layer_call_fn, re_lu_1_layer_call_and_return_conditional_losses while saving (showing 5 of 156). These functions will not be directly callable after loading.\n"
          ]
        },
        {
          "name": "stdout",
          "output_type": "stream",
          "text": [
            "INFO:tensorflow:Assets written to: ./drive/MyDrive/colab_data/pruned_model/assets\n"
          ]
        },
        {
          "name": "stderr",
          "output_type": "stream",
          "text": [
            "INFO:tensorflow:Assets written to: ./drive/MyDrive/colab_data/pruned_model/assets\n"
          ]
        },
        {
          "name": "stdout",
          "output_type": "stream",
          "text": [
            "1407/1407 [==============================] - 78s 56ms/step - loss: 0.0101 - accuracy: 0.9965 - val_loss: 1.2680 - val_accuracy: 0.8386\n",
            "Best Validation Accuracy(Prunned):0.8436\n"
          ]
        }
      ],
      "source": [
        "# from tensorflow import keras\n",
        "# import tensorflow as tf\n",
        "# import tensorflow_model_optimization as tfmot\n",
        "\n",
        "prune_low_magnitude = tfmot.sparsity.keras.prune_low_magnitude\n",
        "\n",
        "# Compute end step to finish pruning after 2 epochs.\n",
        "batch_size = 32\n",
        "epochs = 20\n",
        "validation_split = 0.1 # 10% of training set will be used for validation set.\n",
        "\n",
        "num_images = x_train.shape[0] * (1 - validation_split)\n",
        "end_step = np.ceil(num_images / batch_size).astype(np.int32) * epochs\n",
        "\n",
        "# Define model for pruning.\n",
        "pruning_params = {\n",
        "      'pruning_schedule': tfmot.sparsity.keras.PolynomialDecay(initial_sparsity=0.50,\n",
        "                                                               final_sparsity=0.80,\n",
        "                                                               begin_step=0,\n",
        "                                                               end_step=end_step)\n",
        "}\n",
        "\n",
        "model_for_pruning = prune_low_magnitude(model_best, **pruning_params)\n",
        "\n",
        "# `prune_low_magnitude` requires a recompile.\n",
        "model_for_pruning.compile(optimizer='adam',\n",
        "              loss=tf.keras.losses.CategoricalCrossentropy(from_logits=True),\n",
        "              metrics=['accuracy'])\n",
        "\n",
        "# model_for_pruning.summary()\n",
        "save_dir = './drive/MyDrive/colab_data/'\n",
        "checkpoint = ModelCheckpoint(save_dir+\"pruned_model\", save_best_only=False)\n",
        "\n",
        "callbacks = [\n",
        "  tfmot.sparsity.keras.UpdatePruningStep(),\n",
        "  tfmot.sparsity.keras.PruningSummaries(log_dir=save_dir),\n",
        "  checkpoint\n",
        "]\n",
        "\n",
        "hist_prune = model_for_pruning.fit(x_train, y_train,\n",
        "                  batch_size = batch_size,\n",
        "                  epochs=epochs, validation_split=validation_split,\n",
        "                  callbacks=callbacks)\n",
        "\n",
        "# Best Validation Accuracy\n",
        "print(\"Best Validation Accuracy(Prunned):{:.4f}\".format(max(hist_prune.history['val_accuracy'])))\n"
      ]
    },
    {
      "cell_type": "code",
      "execution_count": 10,
      "metadata": {
        "colab": {
          "base_uri": "https://localhost:8080/"
        },
        "id": "soJM27pyDTmZ",
        "outputId": "6e024644-e01f-44b3-e5bd-57e26849df8d"
      },
      "outputs": [
        {
          "name": "stdout",
          "output_type": "stream",
          "text": [
            "Model: \"model\"\n",
            "__________________________________________________________________________________________________\n",
            " Layer (type)                   Output Shape         Param #     Connected to                     \n",
            "==================================================================================================\n",
            " input_1 (InputLayer)           [(None, 32, 32, 3)]  0           []                               \n",
            "                                                                                                  \n",
            " sequential (Sequential)        (None, 32, 32, 64)   2048        ['input_1[0][0]']                \n",
            "                                                                                                  \n",
            " conv2d_1 (Conv2D)              (None, 32, 32, 64)   4160        ['sequential[0][0]']             \n",
            "                                                                                                  \n",
            " batch_normalization_1 (BatchNo  (None, 32, 32, 64)  256         ['conv2d_1[1][0]']               \n",
            " rmalization)                                                                                     \n",
            "                                                                                                  \n",
            " re_lu_1 (ReLU)                 (None, 32, 32, 64)   0           ['batch_normalization_1[1][0]']  \n",
            "                                                                                                  \n",
            " depthwise_conv2d (DepthwiseCon  (None, 32, 32, 64)  640         ['re_lu_1[1][0]']                \n",
            " v2D)                                                                                             \n",
            "                                                                                                  \n",
            " batch_normalization_2 (BatchNo  (None, 32, 32, 64)  256         ['depthwise_conv2d[1][0]']       \n",
            " rmalization)                                                                                     \n",
            "                                                                                                  \n",
            " re_lu_2 (ReLU)                 (None, 32, 32, 64)   0           ['batch_normalization_2[1][0]']  \n",
            "                                                                                                  \n",
            " conv2d_2 (Conv2D)              (None, 32, 32, 64)   4160        ['re_lu_2[1][0]']                \n",
            "                                                                                                  \n",
            " batch_normalization_3 (BatchNo  (None, 32, 32, 64)  256         ['conv2d_2[1][0]']               \n",
            " rmalization)                                                                                     \n",
            "                                                                                                  \n",
            " add (Add)                      (None, 32, 32, 64)   0           ['batch_normalization_3[1][0]',  \n",
            "                                                                  'sequential[0][0]']             \n",
            "                                                                                                  \n",
            " re_lu_3 (ReLU)                 (None, 32, 32, 64)   0           ['add[1][0]']                    \n",
            "                                                                                                  \n",
            " conv2d_3 (Conv2D)              (None, 32, 32, 64)   4160        ['re_lu_3[1][0]']                \n",
            "                                                                                                  \n",
            " batch_normalization_4 (BatchNo  (None, 32, 32, 64)  256         ['conv2d_3[1][0]']               \n",
            " rmalization)                                                                                     \n",
            "                                                                                                  \n",
            " re_lu_4 (ReLU)                 (None, 32, 32, 64)   0           ['batch_normalization_4[1][0]']  \n",
            "                                                                                                  \n",
            " depthwise_conv2d_1 (DepthwiseC  (None, 32, 32, 64)  640         ['re_lu_4[1][0]']                \n",
            " onv2D)                                                                                           \n",
            "                                                                                                  \n",
            " batch_normalization_5 (BatchNo  (None, 32, 32, 64)  256         ['depthwise_conv2d_1[1][0]']     \n",
            " rmalization)                                                                                     \n",
            "                                                                                                  \n",
            " re_lu_5 (ReLU)                 (None, 32, 32, 64)   0           ['batch_normalization_5[1][0]']  \n",
            "                                                                                                  \n",
            " conv2d_4 (Conv2D)              (None, 32, 32, 64)   4160        ['re_lu_5[1][0]']                \n",
            "                                                                                                  \n",
            " batch_normalization_6 (BatchNo  (None, 32, 32, 64)  256         ['conv2d_4[1][0]']               \n",
            " rmalization)                                                                                     \n",
            "                                                                                                  \n",
            " add_1 (Add)                    (None, 32, 32, 64)   0           ['batch_normalization_6[1][0]',  \n",
            "                                                                  're_lu_3[1][0]']                \n",
            "                                                                                                  \n",
            " re_lu_6 (ReLU)                 (None, 32, 32, 64)   0           ['add_1[1][0]']                  \n",
            "                                                                                                  \n",
            " conv2d_5 (Conv2D)              (None, 32, 32, 128)  8320        ['re_lu_6[1][0]']                \n",
            "                                                                                                  \n",
            " batch_normalization_7 (BatchNo  (None, 32, 32, 128)  512        ['conv2d_5[1][0]']               \n",
            " rmalization)                                                                                     \n",
            "                                                                                                  \n",
            " re_lu_7 (ReLU)                 (None, 32, 32, 128)  0           ['batch_normalization_7[1][0]']  \n",
            "                                                                                                  \n",
            " depthwise_conv2d_2 (DepthwiseC  (None, 16, 16, 128)  1280       ['re_lu_7[1][0]']                \n",
            " onv2D)                                                                                           \n",
            "                                                                                                  \n",
            " batch_normalization_8 (BatchNo  (None, 16, 16, 128)  512        ['depthwise_conv2d_2[1][0]']     \n",
            " rmalization)                                                                                     \n",
            "                                                                                                  \n",
            " re_lu_8 (ReLU)                 (None, 16, 16, 128)  0           ['batch_normalization_8[1][0]']  \n",
            "                                                                                                  \n",
            " conv2d_6 (Conv2D)              (None, 16, 16, 128)  16512       ['re_lu_8[1][0]']                \n",
            "                                                                                                  \n",
            " conv2d_7 (Conv2D)              (None, 16, 16, 128)  8320        ['re_lu_6[1][0]']                \n",
            "                                                                                                  \n",
            " batch_normalization_9 (BatchNo  (None, 16, 16, 128)  512        ['conv2d_6[1][0]']               \n",
            " rmalization)                                                                                     \n",
            "                                                                                                  \n",
            " batch_normalization_10 (BatchN  (None, 16, 16, 128)  512        ['conv2d_7[1][0]']               \n",
            " ormalization)                                                                                    \n",
            "                                                                                                  \n",
            " add_2 (Add)                    (None, 16, 16, 128)  0           ['batch_normalization_9[1][0]',  \n",
            "                                                                  'batch_normalization_10[1][0]'] \n",
            "                                                                                                  \n",
            " re_lu_9 (ReLU)                 (None, 16, 16, 128)  0           ['add_2[1][0]']                  \n",
            "                                                                                                  \n",
            " conv2d_8 (Conv2D)              (None, 16, 16, 128)  16512       ['re_lu_9[1][0]']                \n",
            "                                                                                                  \n",
            " batch_normalization_11 (BatchN  (None, 16, 16, 128)  512        ['conv2d_8[1][0]']               \n",
            " ormalization)                                                                                    \n",
            "                                                                                                  \n",
            " re_lu_10 (ReLU)                (None, 16, 16, 128)  0           ['batch_normalization_11[1][0]'] \n",
            "                                                                                                  \n",
            " depthwise_conv2d_3 (DepthwiseC  (None, 16, 16, 128)  1280       ['re_lu_10[1][0]']               \n",
            " onv2D)                                                                                           \n",
            "                                                                                                  \n",
            " batch_normalization_12 (BatchN  (None, 16, 16, 128)  512        ['depthwise_conv2d_3[1][0]']     \n",
            " ormalization)                                                                                    \n",
            "                                                                                                  \n",
            " re_lu_11 (ReLU)                (None, 16, 16, 128)  0           ['batch_normalization_12[1][0]'] \n",
            "                                                                                                  \n",
            " conv2d_9 (Conv2D)              (None, 16, 16, 128)  16512       ['re_lu_11[1][0]']               \n",
            "                                                                                                  \n",
            " batch_normalization_13 (BatchN  (None, 16, 16, 128)  512        ['conv2d_9[1][0]']               \n",
            " ormalization)                                                                                    \n",
            "                                                                                                  \n",
            " add_3 (Add)                    (None, 16, 16, 128)  0           ['batch_normalization_13[1][0]', \n",
            "                                                                  're_lu_9[1][0]']                \n",
            "                                                                                                  \n",
            " re_lu_12 (ReLU)                (None, 16, 16, 128)  0           ['add_3[1][0]']                  \n",
            "                                                                                                  \n",
            " conv2d_10 (Conv2D)             (None, 16, 16, 256)  33024       ['re_lu_12[1][0]']               \n",
            "                                                                                                  \n",
            " batch_normalization_14 (BatchN  (None, 16, 16, 256)  1024       ['conv2d_10[1][0]']              \n",
            " ormalization)                                                                                    \n",
            "                                                                                                  \n",
            " re_lu_13 (ReLU)                (None, 16, 16, 256)  0           ['batch_normalization_14[1][0]'] \n",
            "                                                                                                  \n",
            " depthwise_conv2d_4 (DepthwiseC  (None, 8, 8, 256)   2560        ['re_lu_13[1][0]']               \n",
            " onv2D)                                                                                           \n",
            "                                                                                                  \n",
            " batch_normalization_15 (BatchN  (None, 8, 8, 256)   1024        ['depthwise_conv2d_4[1][0]']     \n",
            " ormalization)                                                                                    \n",
            "                                                                                                  \n",
            " re_lu_14 (ReLU)                (None, 8, 8, 256)    0           ['batch_normalization_15[1][0]'] \n",
            "                                                                                                  \n",
            " conv2d_11 (Conv2D)             (None, 8, 8, 256)    65792       ['re_lu_14[1][0]']               \n",
            "                                                                                                  \n",
            " conv2d_12 (Conv2D)             (None, 8, 8, 256)    33024       ['re_lu_12[1][0]']               \n",
            "                                                                                                  \n",
            " batch_normalization_16 (BatchN  (None, 8, 8, 256)   1024        ['conv2d_11[1][0]']              \n",
            " ormalization)                                                                                    \n",
            "                                                                                                  \n",
            " batch_normalization_17 (BatchN  (None, 8, 8, 256)   1024        ['conv2d_12[1][0]']              \n",
            " ormalization)                                                                                    \n",
            "                                                                                                  \n",
            " add_4 (Add)                    (None, 8, 8, 256)    0           ['batch_normalization_16[1][0]', \n",
            "                                                                  'batch_normalization_17[1][0]'] \n",
            "                                                                                                  \n",
            " re_lu_15 (ReLU)                (None, 8, 8, 256)    0           ['add_4[1][0]']                  \n",
            "                                                                                                  \n",
            " conv2d_13 (Conv2D)             (None, 8, 8, 256)    65792       ['re_lu_15[1][0]']               \n",
            "                                                                                                  \n",
            " batch_normalization_18 (BatchN  (None, 8, 8, 256)   1024        ['conv2d_13[1][0]']              \n",
            " ormalization)                                                                                    \n",
            "                                                                                                  \n",
            " re_lu_16 (ReLU)                (None, 8, 8, 256)    0           ['batch_normalization_18[1][0]'] \n",
            "                                                                                                  \n",
            " depthwise_conv2d_5 (DepthwiseC  (None, 8, 8, 256)   2560        ['re_lu_16[1][0]']               \n",
            " onv2D)                                                                                           \n",
            "                                                                                                  \n",
            " batch_normalization_19 (BatchN  (None, 8, 8, 256)   1024        ['depthwise_conv2d_5[1][0]']     \n",
            " ormalization)                                                                                    \n",
            "                                                                                                  \n",
            " re_lu_17 (ReLU)                (None, 8, 8, 256)    0           ['batch_normalization_19[1][0]'] \n",
            "                                                                                                  \n",
            " conv2d_14 (Conv2D)             (None, 8, 8, 256)    65792       ['re_lu_17[1][0]']               \n",
            "                                                                                                  \n",
            " batch_normalization_20 (BatchN  (None, 8, 8, 256)   1024        ['conv2d_14[1][0]']              \n",
            " ormalization)                                                                                    \n",
            "                                                                                                  \n",
            " add_5 (Add)                    (None, 8, 8, 256)    0           ['batch_normalization_20[1][0]', \n",
            "                                                                  're_lu_15[1][0]']               \n",
            "                                                                                                  \n",
            " re_lu_18 (ReLU)                (None, 8, 8, 256)    0           ['add_5[1][0]']                  \n",
            "                                                                                                  \n",
            " conv2d_15 (Conv2D)             (None, 8, 8, 512)    131584      ['re_lu_18[1][0]']               \n",
            "                                                                                                  \n",
            " batch_normalization_21 (BatchN  (None, 8, 8, 512)   2048        ['conv2d_15[1][0]']              \n",
            " ormalization)                                                                                    \n",
            "                                                                                                  \n",
            " re_lu_19 (ReLU)                (None, 8, 8, 512)    0           ['batch_normalization_21[1][0]'] \n",
            "                                                                                                  \n",
            " depthwise_conv2d_6 (DepthwiseC  (None, 4, 4, 512)   5120        ['re_lu_19[1][0]']               \n",
            " onv2D)                                                                                           \n",
            "                                                                                                  \n",
            " batch_normalization_22 (BatchN  (None, 4, 4, 512)   2048        ['depthwise_conv2d_6[1][0]']     \n",
            " ormalization)                                                                                    \n",
            "                                                                                                  \n",
            " re_lu_20 (ReLU)                (None, 4, 4, 512)    0           ['batch_normalization_22[1][0]'] \n",
            "                                                                                                  \n",
            " conv2d_16 (Conv2D)             (None, 4, 4, 512)    262656      ['re_lu_20[1][0]']               \n",
            "                                                                                                  \n",
            " conv2d_17 (Conv2D)             (None, 4, 4, 512)    131584      ['re_lu_18[1][0]']               \n",
            "                                                                                                  \n",
            " batch_normalization_23 (BatchN  (None, 4, 4, 512)   2048        ['conv2d_16[1][0]']              \n",
            " ormalization)                                                                                    \n",
            "                                                                                                  \n",
            " batch_normalization_24 (BatchN  (None, 4, 4, 512)   2048        ['conv2d_17[1][0]']              \n",
            " ormalization)                                                                                    \n",
            "                                                                                                  \n",
            " add_6 (Add)                    (None, 4, 4, 512)    0           ['batch_normalization_23[1][0]', \n",
            "                                                                  'batch_normalization_24[1][0]'] \n",
            "                                                                                                  \n",
            " re_lu_21 (ReLU)                (None, 4, 4, 512)    0           ['add_6[1][0]']                  \n",
            "                                                                                                  \n",
            " conv2d_18 (Conv2D)             (None, 4, 4, 512)    262656      ['re_lu_21[1][0]']               \n",
            "                                                                                                  \n",
            " batch_normalization_25 (BatchN  (None, 4, 4, 512)   2048        ['conv2d_18[1][0]']              \n",
            " ormalization)                                                                                    \n",
            "                                                                                                  \n",
            " re_lu_22 (ReLU)                (None, 4, 4, 512)    0           ['batch_normalization_25[1][0]'] \n",
            "                                                                                                  \n",
            " depthwise_conv2d_7 (DepthwiseC  (None, 4, 4, 512)   5120        ['re_lu_22[1][0]']               \n",
            " onv2D)                                                                                           \n",
            "                                                                                                  \n",
            " batch_normalization_26 (BatchN  (None, 4, 4, 512)   2048        ['depthwise_conv2d_7[1][0]']     \n",
            " ormalization)                                                                                    \n",
            "                                                                                                  \n",
            " re_lu_23 (ReLU)                (None, 4, 4, 512)    0           ['batch_normalization_26[1][0]'] \n",
            "                                                                                                  \n",
            " conv2d_19 (Conv2D)             (None, 4, 4, 512)    262656      ['re_lu_23[1][0]']               \n",
            "                                                                                                  \n",
            " batch_normalization_27 (BatchN  (None, 4, 4, 512)   2048        ['conv2d_19[1][0]']              \n",
            " ormalization)                                                                                    \n",
            "                                                                                                  \n",
            " add_7 (Add)                    (None, 4, 4, 512)    0           ['batch_normalization_27[1][0]', \n",
            "                                                                  're_lu_21[1][0]']               \n",
            "                                                                                                  \n",
            " re_lu_24 (ReLU)                (None, 4, 4, 512)    0           ['add_7[1][0]']                  \n",
            "                                                                                                  \n",
            " sequential_1 (Sequential)      (None, 10)           267786      ['re_lu_24[1][0]']               \n",
            "                                                                                                  \n",
            "==================================================================================================\n",
            "Total params: 1,713,034\n",
            "Trainable params: 1,699,594\n",
            "Non-trainable params: 13,440\n",
            "__________________________________________________________________________________________________\n",
            "Total Sparsity: 0.7966\n"
          ]
        }
      ],
      "source": [
        "# Total parameters after prune\n",
        "load_dir = './drive/MyDrive/colab_data/'\n",
        "pruned_model = tf.keras.models.load_model(load_dir+\"pruned_model\")\n",
        "\n",
        "model_for_export = tfmot.sparsity.keras.strip_pruning(model_for_pruning)\n",
        "model_for_export.summary()\n",
        "\n",
        "pruned_weights = model_for_export.get_weights()\n",
        "\n",
        "# print sparsity\n",
        "total_count = 0\n",
        "total_nonzero = 0\n",
        "\n",
        "for i, weights in enumerate(pruned_weights):\n",
        "    if len(weights) > 0:\n",
        "        weight_matrix = np.array(weights[0])\n",
        "        non_zero_count = np.count_nonzero(weight_matrix)\n",
        "        layer_count = np.prod(weight_matrix.shape)\n",
        "        sparsity = 1.0 - (non_zero_count / layer_count)\n",
        "        # print(f\"Layer {i:>2d}: Sparsity = {sparsity:.4f}\")\n",
        "        total_count = total_count + layer_count\n",
        "        total_nonzero = total_nonzero + non_zero_count\n",
        "\n",
        "total_sparsity = 1.0 - (total_nonzero / total_count)\n",
        "print(f\"Total Sparsity: {total_sparsity:.4f}\")\n"
      ]
    },
    {
      "cell_type": "code",
      "execution_count": 11,
      "metadata": {
        "colab": {
          "base_uri": "https://localhost:8080/",
          "height": 449
        },
        "id": "OEDA71lhkWXq",
        "outputId": "1988cf0a-cb6b-4770-e8ff-0bdedb6b742d"
      },
      "outputs": [
        {
          "data": {
            "image/png": "[encoded data removed]",
            "text/plain": [
              "<Figure size 640x480 with 2 Axes>"
            ]
          },
          "metadata": {},
          "output_type": "display_data"
        }
      ],
      "source": [
        "%matplotlib inline\n",
        "import matplotlib.pyplot as plt\n",
        "\n",
        "fig, loss_ax = plt.subplots()\n",
        "acc_ax = loss_ax.twinx()\n",
        "\n",
        "loss_ax.plot(hist_prune.history['loss'], 'y', label = 'train loss')\n",
        "loss_ax.plot(hist_prune.history['val_loss'], 'r', label = 'val loss')\n",
        "acc_ax.plot(hist_prune.history['accuracy'], 'b', label = 'train accuracy')\n",
        "acc_ax.plot(hist_prune.history['val_accuracy'], 'g', label = 'val accuracy')\n",
        "\n",
        "loss_ax.set_xlabel('epoch')\n",
        "loss_ax.set_ylabel('loss')\n",
        "acc_ax.set_xlabel('accuracy')\n",
        "\n",
        "loss_ax.legend(loc = 'upper left')\n",
        "acc_ax.legend(loc = 'lower left')\n",
        "\n",
        "plt.show()"
      ]
    },
    {
      "cell_type": "code",
      "execution_count": null,
      "metadata": {
        "id": "nwGou2zTkbAw"
      },
      "outputs": [],
      "source": []
    }
  ],
  "metadata": {
    "accelerator": "GPU",
    "colab": {
      "gpuType": "T4",
      "provenance": []
    },
    "kernelspec": {
      "display_name": "Python 3",
      "name": "python3"
    },
    "language_info": {
      "codemirror_mode": {
        "name": "ipython",
        "version": 3
      },
      "file_extension": ".py",
      "mimetype": "text/x-python",
      "name": "python",
      "nbconvert_exporter": "python",
      "pygments_lexer": "ipython3",
      "version": "3.10.13"
    }
  },
  "nbformat": 4,
  "nbformat_minor": 0
}
